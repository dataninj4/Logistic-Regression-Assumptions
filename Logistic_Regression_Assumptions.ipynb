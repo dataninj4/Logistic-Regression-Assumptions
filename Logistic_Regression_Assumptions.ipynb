{
 "cells": [
  {
   "cell_type": "markdown",
   "metadata": {},
   "source": [
    "# Logistic Regression Assumptions\n",
    "\n",
    "- When the assumptions of logistic regression analysis are not met, problems such as biased coefficient estimates or very large standard errors for the logistic regression coefficients may lead to invalid statistical inferences. \n",
    "- In this demo, we go through each key assumption with code examples (on the Titanic dataset)\n",
    "- Link to TowardsDataScience article: *Coming soon*\n",
    "\n",
    "\n",
    "### Contents\n",
    "[**Initial Setup**](#initial-setup)\n",
    "\n",
    "[**Assumption 1** - Appropriate outcome type](#assumption-outcome) \n",
    "\n",
    "[**Assumption 2** - Linearity of independent variables and log odds](#assumption-linearity) \n",
    "\n",
    "[**Assumption 3** - No strongly influential outliers](#assumption-outlier)  \n",
    "\n",
    "[**Assumption 4** - Absence of multicollinearity](#assumption-multicollinearity)  \n",
    "\n",
    "[**Assumption 5** - Independence of observations](#assumption-independence)  \n",
    "\n",
    "[**Assumption 6** - Sufficiently large sample size](#assumption-size)  \n",
    "\n",
    "___"
   ]
  },
  {
   "cell_type": "markdown",
   "metadata": {},
   "source": [
    "<a name='initial-setup'></a>\n",
    "### Initial Setup\n",
    "- Import and pre-process Titanic dataset (suitable example as it is a classification problem)\n",
    "- Can ignore the details of this segment, as the objective here is just to prepare a dataset for the subsequent assumptions testing\n",
    "- Reference: https://www.kaggle.com/mnassrib/titanic-logistic-regression-with-python"
   ]
  },
  {
   "cell_type": "code",
   "execution_count": 1,
   "metadata": {},
   "outputs": [],
   "source": [
    "# Import dependencies\n",
    "import numpy as np\n",
    "import pandas as pd\n",
    "import matplotlib.pyplot as plot\n",
    "import seaborn as sns\n",
    "import math\n",
    "from sklearn.linear_model import LogisticRegression\n",
    "\n",
    "import statsmodels.api as sm\n",
    "from statsmodels.genmod.generalized_linear_model import GLM\n",
    "from statsmodels.genmod import families\n",
    "from statsmodels.stats.outliers_influence import variance_inflation_factor"
   ]
  },
  {
   "cell_type": "markdown",
   "metadata": {},
   "source": [
    "#### Basic pre-processing"
   ]
  },
  {
   "cell_type": "code",
   "execution_count": 2,
   "metadata": {},
   "outputs": [
    {
     "data": {
      "text/html": [
       "<div>\n",
       "<style scoped>\n",
       "    .dataframe tbody tr th:only-of-type {\n",
       "        vertical-align: middle;\n",
       "    }\n",
       "\n",
       "    .dataframe tbody tr th {\n",
       "        vertical-align: top;\n",
       "    }\n",
       "\n",
       "    .dataframe thead th {\n",
       "        text-align: right;\n",
       "    }\n",
       "</style>\n",
       "<table border=\"1\" class=\"dataframe\">\n",
       "  <thead>\n",
       "    <tr style=\"text-align: right;\">\n",
       "      <th></th>\n",
       "      <th>Survived</th>\n",
       "      <th>Age</th>\n",
       "      <th>Fare</th>\n",
       "      <th>TravelAlone</th>\n",
       "      <th>Pclass_2</th>\n",
       "      <th>Pclass_3</th>\n",
       "      <th>Embarked_Q</th>\n",
       "      <th>Embarked_S</th>\n",
       "      <th>Sex_male</th>\n",
       "    </tr>\n",
       "  </thead>\n",
       "  <tbody>\n",
       "    <tr>\n",
       "      <th>0</th>\n",
       "      <td>0</td>\n",
       "      <td>22.0</td>\n",
       "      <td>7.2500</td>\n",
       "      <td>0</td>\n",
       "      <td>0</td>\n",
       "      <td>1</td>\n",
       "      <td>0</td>\n",
       "      <td>1</td>\n",
       "      <td>1</td>\n",
       "    </tr>\n",
       "    <tr>\n",
       "      <th>1</th>\n",
       "      <td>1</td>\n",
       "      <td>38.0</td>\n",
       "      <td>71.2833</td>\n",
       "      <td>0</td>\n",
       "      <td>0</td>\n",
       "      <td>0</td>\n",
       "      <td>0</td>\n",
       "      <td>0</td>\n",
       "      <td>0</td>\n",
       "    </tr>\n",
       "    <tr>\n",
       "      <th>2</th>\n",
       "      <td>1</td>\n",
       "      <td>26.0</td>\n",
       "      <td>7.9250</td>\n",
       "      <td>1</td>\n",
       "      <td>0</td>\n",
       "      <td>1</td>\n",
       "      <td>0</td>\n",
       "      <td>1</td>\n",
       "      <td>0</td>\n",
       "    </tr>\n",
       "    <tr>\n",
       "      <th>3</th>\n",
       "      <td>1</td>\n",
       "      <td>35.0</td>\n",
       "      <td>53.1000</td>\n",
       "      <td>0</td>\n",
       "      <td>0</td>\n",
       "      <td>0</td>\n",
       "      <td>0</td>\n",
       "      <td>1</td>\n",
       "      <td>0</td>\n",
       "    </tr>\n",
       "    <tr>\n",
       "      <th>4</th>\n",
       "      <td>0</td>\n",
       "      <td>35.0</td>\n",
       "      <td>8.0500</td>\n",
       "      <td>1</td>\n",
       "      <td>0</td>\n",
       "      <td>1</td>\n",
       "      <td>0</td>\n",
       "      <td>1</td>\n",
       "      <td>1</td>\n",
       "    </tr>\n",
       "  </tbody>\n",
       "</table>\n",
       "</div>"
      ],
      "text/plain": [
       "   Survived   Age     Fare  TravelAlone  Pclass_2  Pclass_3  Embarked_Q  \\\n",
       "0         0  22.0   7.2500            0         0         1           0   \n",
       "1         1  38.0  71.2833            0         0         0           0   \n",
       "2         1  26.0   7.9250            1         0         1           0   \n",
       "3         1  35.0  53.1000            0         0         0           0   \n",
       "4         0  35.0   8.0500            1         0         1           0   \n",
       "\n",
       "   Embarked_S  Sex_male  \n",
       "0           1         1  \n",
       "1           0         0  \n",
       "2           1         0  \n",
       "3           1         0  \n",
       "4           1         1  "
      ]
     },
     "execution_count": 2,
     "metadata": {},
     "output_type": "execute_result"
    }
   ],
   "source": [
    "# Import Titanic dataset (train.csv)\n",
    "df_raw = pd.read_csv('data/train.csv')\n",
    "\n",
    "# Create categorical variable for traveling alone\n",
    "df_raw['TravelAlone'] = np.where((df_raw[\"SibSp\"] + df_raw[\"Parch\"])>0, 0, 1).astype('uint8')\n",
    "df_raw.drop('SibSp', axis=1, inplace=True)\n",
    "df_raw.drop('Parch', axis=1, inplace=True)\n",
    "df_raw.drop('PassengerId', axis=1, inplace=True)\n",
    "df_raw.drop('Name', axis=1, inplace=True)\n",
    "df_raw.drop('Ticket', axis=1, inplace=True)\n",
    "df_raw.drop('Cabin', axis=1, inplace=True)\n",
    "# df_raw.drop('Fare', axis=1, inplace=True)\n",
    "\n",
    "# Create categorical variables and drop some variables\n",
    "df_titanic = pd.get_dummies(df_raw, columns=[\"Pclass\",\"Embarked\",\"Sex\"], \n",
    "                         drop_first=True) # Remove first variable to prevent collinearity\n",
    "\n",
    "# Fill NaN (median imputation)\n",
    "df_titanic[\"Age\"].fillna(df_titanic[\"Age\"].median(skipna=True), inplace=True)\n",
    "\n",
    "df_titanic.head()"
   ]
  },
  {
   "cell_type": "code",
   "execution_count": 3,
   "metadata": {},
   "outputs": [
    {
     "name": "stderr",
     "output_type": "stream",
     "text": [
      "C:\\Users\\kenne\\AppData\\Roaming\\Python\\Python38\\site-packages\\statsmodels\\tsa\\tsatools.py:130: FutureWarning: In a future version of pandas all arguments of concat except for the argument 'objs' will be keyword-only\n",
      "  x = pd.concat(x[::order], 1)\n"
     ]
    }
   ],
   "source": [
    "# Define dependent and independent variables\n",
    "X_cols = df_titanic.columns.to_list()[1:]\n",
    "X = df_titanic[X_cols]\n",
    "y = df_titanic['Survived']\n",
    "\n",
    "# Add constant\n",
    "X = sm.add_constant(X, prepend=False)"
   ]
  },
  {
   "cell_type": "markdown",
   "metadata": {},
   "source": [
    "___\n",
    "<a name='assumption-outcome'></a>\n",
    "### Assumption 1 - Appropriate outcome type"
   ]
  },
  {
   "cell_type": "code",
   "execution_count": 4,
   "metadata": {},
   "outputs": [
    {
     "name": "stdout",
     "output_type": "stream",
     "text": [
      "2\n"
     ]
    }
   ],
   "source": [
    "print(df_titanic['Survived'].nunique())"
   ]
  },
  {
   "cell_type": "code",
   "execution_count": 5,
   "metadata": {},
   "outputs": [
    {
     "data": {
      "text/plain": [
       "0    549\n",
       "1    342\n",
       "Name: Survived, dtype: int64"
      ]
     },
     "execution_count": 5,
     "metadata": {},
     "output_type": "execute_result"
    }
   ],
   "source": [
    "df_titanic['Survived'].value_counts()"
   ]
  },
  {
   "cell_type": "markdown",
   "metadata": {},
   "source": [
    "- There are only two outcomes (i.e. binary classification of survived or did not survive), so we will be using Binary Logistic Regression (which is the default method we use when we specify family=Binomial in our logit models earlier)\n",
    "- Other types of Logistic Regression (where outcomes > 2) include:\n",
    "    - Multinomial Logistic Regression: Target variable has three or more nominal categories such as predicting the type of Wine\n",
    "    - Ordinal Logistic Regression: Target variable has three or more ordinal categories such as restaurant or product rating from 1 to 5.\n",
    "- More info: https://www.datacamp.com/community/tutorials/understanding-logistic-regression-python"
   ]
  },
  {
   "cell_type": "markdown",
   "metadata": {},
   "source": [
    "___\n",
    "<a name='assumption-linearity'></a>\n",
    "### Assumption 2 - Linearity of independent variables and log odds"
   ]
  },
  {
   "cell_type": "markdown",
   "metadata": {},
   "source": [
    "#### Box-Tidwell Test"
   ]
  },
  {
   "cell_type": "markdown",
   "metadata": {},
   "source": [
    "- One of the important assumptions of logistic regression is the linearity of the logit over the continuous covariates. This assumption means that relationships between the continuous predictors and the logit (log odds) is linear. \n",
    "- The **Box-Tidwell transformation (test)** can be used to test the linearity in the logit assumption when performing logistic regression.\n",
    "- It checks whether the logit transform is a linear function of the predictor, effectively adding the non-linear transform of the original predictor as an interaction term to test if this addition made no better prediction.\n",
    "- A **statistically significant** p-value of the interaction term in the Box-Tidwell transformation means that the linearity assumption is violated\n",
    "- If one variable is indeed found to be non-linear, then we can resolve it by incorporating higher order polynomial terms for that variable in the regression analysis to capture the non-linearity (e.g. x^2) .- Another solution to this problem is the categorization of the independent variables. That is transforming metric variables to ordinal level and then including them in the model. \n",
    "\n",
    "___\n",
    "- Details on R implementation of Box-Tidwell test in R, please refer to the `Box-Tidwell-Test-in-R.ipynb` notebook\n",
    "- There is no native Python package to run the Box Tidwell test (unlike in R), so we will be coding the test below manually"
   ]
  },
  {
   "cell_type": "code",
   "execution_count": 6,
   "metadata": {},
   "outputs": [],
   "source": [
    "# Box Tidwell only works for positive values. Hence, drop values where x = 0\n",
    "df_titanic_2 = df_titanic.drop(df_titanic[df_titanic.Age == 0].index)\n",
    "df_titanic_2 = df_titanic.drop(df_titanic[df_titanic.Fare == 0].index)\n",
    "\n",
    "# Export processed df_titanic for separate R notebook: `Box-Tidwell-Test-in-R.ipynb`\n",
    "# df_titanic_2.to_csv('data/train_processed.csv', index=False)"
   ]
  },
  {
   "cell_type": "markdown",
   "metadata": {},
   "source": [
    "Logistic Regression with statsmodel - Inclusion of interaction term (logit transform) as part of Box-Tidwell test"
   ]
  },
  {
   "cell_type": "code",
   "execution_count": 7,
   "metadata": {},
   "outputs": [
    {
     "data": {
      "text/html": [
       "<div>\n",
       "<style scoped>\n",
       "    .dataframe tbody tr th:only-of-type {\n",
       "        vertical-align: middle;\n",
       "    }\n",
       "\n",
       "    .dataframe tbody tr th {\n",
       "        vertical-align: top;\n",
       "    }\n",
       "\n",
       "    .dataframe thead th {\n",
       "        text-align: right;\n",
       "    }\n",
       "</style>\n",
       "<table border=\"1\" class=\"dataframe\">\n",
       "  <thead>\n",
       "    <tr style=\"text-align: right;\">\n",
       "      <th></th>\n",
       "      <th>Survived</th>\n",
       "      <th>Age</th>\n",
       "      <th>Fare</th>\n",
       "      <th>TravelAlone</th>\n",
       "      <th>Pclass_2</th>\n",
       "      <th>Pclass_3</th>\n",
       "      <th>Embarked_Q</th>\n",
       "      <th>Embarked_S</th>\n",
       "      <th>Sex_male</th>\n",
       "      <th>Age:Log_Age</th>\n",
       "      <th>Fare:Log_Fare</th>\n",
       "    </tr>\n",
       "  </thead>\n",
       "  <tbody>\n",
       "    <tr>\n",
       "      <th>0</th>\n",
       "      <td>0</td>\n",
       "      <td>22.0</td>\n",
       "      <td>7.2500</td>\n",
       "      <td>0</td>\n",
       "      <td>0</td>\n",
       "      <td>1</td>\n",
       "      <td>0</td>\n",
       "      <td>1</td>\n",
       "      <td>1</td>\n",
       "      <td>68.002934</td>\n",
       "      <td>14.362261</td>\n",
       "    </tr>\n",
       "    <tr>\n",
       "      <th>1</th>\n",
       "      <td>1</td>\n",
       "      <td>38.0</td>\n",
       "      <td>71.2833</td>\n",
       "      <td>0</td>\n",
       "      <td>0</td>\n",
       "      <td>0</td>\n",
       "      <td>0</td>\n",
       "      <td>0</td>\n",
       "      <td>0</td>\n",
       "      <td>138.228274</td>\n",
       "      <td>304.141753</td>\n",
       "    </tr>\n",
       "    <tr>\n",
       "      <th>2</th>\n",
       "      <td>1</td>\n",
       "      <td>26.0</td>\n",
       "      <td>7.9250</td>\n",
       "      <td>1</td>\n",
       "      <td>0</td>\n",
       "      <td>1</td>\n",
       "      <td>0</td>\n",
       "      <td>1</td>\n",
       "      <td>0</td>\n",
       "      <td>84.710510</td>\n",
       "      <td>16.404927</td>\n",
       "    </tr>\n",
       "    <tr>\n",
       "      <th>3</th>\n",
       "      <td>1</td>\n",
       "      <td>35.0</td>\n",
       "      <td>53.1000</td>\n",
       "      <td>0</td>\n",
       "      <td>0</td>\n",
       "      <td>0</td>\n",
       "      <td>0</td>\n",
       "      <td>1</td>\n",
       "      <td>0</td>\n",
       "      <td>124.437182</td>\n",
       "      <td>210.922595</td>\n",
       "    </tr>\n",
       "    <tr>\n",
       "      <th>4</th>\n",
       "      <td>0</td>\n",
       "      <td>35.0</td>\n",
       "      <td>8.0500</td>\n",
       "      <td>1</td>\n",
       "      <td>0</td>\n",
       "      <td>1</td>\n",
       "      <td>0</td>\n",
       "      <td>1</td>\n",
       "      <td>1</td>\n",
       "      <td>124.437182</td>\n",
       "      <td>16.789660</td>\n",
       "    </tr>\n",
       "  </tbody>\n",
       "</table>\n",
       "</div>"
      ],
      "text/plain": [
       "   Survived   Age     Fare  TravelAlone  Pclass_2  Pclass_3  Embarked_Q  \\\n",
       "0         0  22.0   7.2500            0         0         1           0   \n",
       "1         1  38.0  71.2833            0         0         0           0   \n",
       "2         1  26.0   7.9250            1         0         1           0   \n",
       "3         1  35.0  53.1000            0         0         0           0   \n",
       "4         0  35.0   8.0500            1         0         1           0   \n",
       "\n",
       "   Embarked_S  Sex_male  Age:Log_Age  Fare:Log_Fare  \n",
       "0           1         1    68.002934      14.362261  \n",
       "1           0         0   138.228274     304.141753  \n",
       "2           1         0    84.710510      16.404927  \n",
       "3           1         0   124.437182     210.922595  \n",
       "4           1         1   124.437182      16.789660  "
      ]
     },
     "execution_count": 7,
     "metadata": {},
     "output_type": "execute_result"
    }
   ],
   "source": [
    "df_titanic_lt = df_titanic_2.copy()\n",
    "\n",
    "# Define continuous variables\n",
    "continuous_var = ['Age', 'Fare']\n",
    "\n",
    "# Add logit transform interaction terms (natural log) for continuous variables e.g. Age * Log(Age)\n",
    "for var in continuous_var:\n",
    "    df_titanic_lt[f'{var}:Log_{var}'] = df_titanic_lt[var].apply(lambda x: x * np.log(x)) #np.log = natural log\n",
    "\n",
    "df_titanic_lt.head()"
   ]
  },
  {
   "cell_type": "code",
   "execution_count": 8,
   "metadata": {},
   "outputs": [
    {
     "data": {
      "text/plain": [
       "['Age', 'Fare', 'Age:Log_Age', 'Fare:Log_Fare']"
      ]
     },
     "execution_count": 8,
     "metadata": {},
     "output_type": "execute_result"
    }
   ],
   "source": [
    "# Keep columns related to continuous variables\n",
    "cols_to_keep = continuous_var + df_titanic_lt.columns.tolist()[-len(continuous_var):]\n",
    "cols_to_keep"
   ]
  },
  {
   "cell_type": "code",
   "execution_count": 9,
   "metadata": {},
   "outputs": [
    {
     "name": "stdout",
     "output_type": "stream",
     "text": [
      "                 Generalized Linear Model Regression Results                  \n",
      "==============================================================================\n",
      "Dep. Variable:               Survived   No. Observations:                  876\n",
      "Model:                            GLM   Df Residuals:                      871\n",
      "Model Family:                Binomial   Df Model:                            4\n",
      "Link Function:                  logit   Scale:                          1.0000\n",
      "Method:                          IRLS   Log-Likelihood:                -536.19\n",
      "Date:                Mon, 04 Oct 2021   Deviance:                       1072.4\n",
      "Time:                        12:08:23   Pearson chi2:                     881.\n",
      "No. Iterations:                     4                                         \n",
      "Covariance Type:            nonrobust                                         \n",
      "=================================================================================\n",
      "                    coef    std err          z      P>|z|      [0.025      0.975]\n",
      "---------------------------------------------------------------------------------\n",
      "Age              -0.1123      0.058     -1.948      0.051      -0.225       0.001\n",
      "Fare              0.0785      0.013      6.057      0.000       0.053       0.104\n",
      "Age:Log_Age       0.0218      0.013      1.640      0.101      -0.004       0.048\n",
      "Fare:Log_Fare    -0.0119      0.002     -5.251      0.000      -0.016      -0.007\n",
      "const            -0.3764      0.402     -0.937      0.349      -1.164       0.411\n",
      "=================================================================================\n"
     ]
    },
    {
     "name": "stderr",
     "output_type": "stream",
     "text": [
      "C:\\Users\\kenne\\AppData\\Roaming\\Python\\Python38\\site-packages\\statsmodels\\tsa\\tsatools.py:130: FutureWarning: In a future version of pandas all arguments of concat except for the argument 'objs' will be keyword-only\n",
      "  x = pd.concat(x[::order], 1)\n"
     ]
    }
   ],
   "source": [
    "# Redefine independent variables to include interaction terms\n",
    "X_lt = df_titanic_lt[cols_to_keep]\n",
    "y_lt = df_titanic_lt['Survived']\n",
    "\n",
    "# Add constant\n",
    "X_lt = sm.add_constant(X_lt, prepend=False)\n",
    "  \n",
    "# Build model and fit the data (using statsmodel's Logit)\n",
    "logit_results = GLM(y_lt, X_lt, family=families.Binomial()).fit()\n",
    "\n",
    "# Display summary results\n",
    "print(logit_results.summary())"
   ]
  },
  {
   "cell_type": "markdown",
   "metadata": {},
   "source": [
    "- We are interested in the p-values for the logit transformed interaction terms of  `Age:Log_Age` and `Fare:Log_Fare`\n",
    "- From the summary table above, we can see that the p value for `Fare:Log_Fare` is <0.001, which is statistically significant, whereas `Age:Log_Age` is not\n",
    "- This means that there is non-linearity in the `Fare` feature, and the assumption has been violated\n",
    "- We can resolve this by including a polynomial term (e.g. `Fare^2`) to account for the non-linearity"
   ]
  },
  {
   "cell_type": "markdown",
   "metadata": {},
   "source": [
    "#### Visual Check"
   ]
  },
  {
   "cell_type": "code",
   "execution_count": 10,
   "metadata": {},
   "outputs": [
    {
     "data": {
      "application/javascript": [
       "\n",
       "        if (window._pyforest_update_imports_cell) { window._pyforest_update_imports_cell('import matplotlib.pyplot as plt'); }\n",
       "    "
      ],
      "text/plain": [
       "<IPython.core.display.Javascript object>"
      ]
     },
     "metadata": {},
     "output_type": "display_data"
    },
    {
     "data": {
      "application/javascript": [
       "\n",
       "        if (window._pyforest_update_imports_cell) { window._pyforest_update_imports_cell('import matplotlib.pyplot as plt'); }\n",
       "    "
      ],
      "text/plain": [
       "<IPython.core.display.Javascript object>"
      ]
     },
     "metadata": {},
     "output_type": "display_data"
    },
    {
     "data": {
      "image/png": "[encoded data removed]",
      "text/plain": [
       "<Figure size 432x288 with 1 Axes>"
      ]
     },
     "metadata": {
      "needs_background": "light"
     },
     "output_type": "display_data"
    }
   ],
   "source": [
    "# Re-run logistic regression on original set of X and y variables\n",
    "logit_results = GLM(y, X, family=families.Binomial()).fit()\n",
    "predicted = logit_results.predict(X)\n",
    "\n",
    "# Get log odds values\n",
    "log_odds = np.log(predicted / (1 - predicted))\n",
    "\n",
    "# Visualize predictor continuous variable vs logit values (Age)\n",
    "plt.scatter(x = df_titanic['Age'].values, y = log_odds);\n",
    "plt.show()"
   ]
  },
  {
   "cell_type": "markdown",
   "metadata": {},
   "source": [
    "Confirming that there is logit linearity for the `Age` variable (Recall earlier that p value for `Age:Log Age` is 0.101)"
   ]
  },
  {
   "cell_type": "code",
   "execution_count": 11,
   "metadata": {
    "scrolled": true
   },
   "outputs": [
    {
     "data": {
      "application/javascript": [
       "\n",
       "        if (window._pyforest_update_imports_cell) { window._pyforest_update_imports_cell('import matplotlib.pyplot as plt'); }\n",
       "    "
      ],
      "text/plain": [
       "<IPython.core.display.Javascript object>"
      ]
     },
     "metadata": {},
     "output_type": "display_data"
    },
    {
     "data": {
      "application/javascript": [
       "\n",
       "        if (window._pyforest_update_imports_cell) { window._pyforest_update_imports_cell('import matplotlib.pyplot as plt'); }\n",
       "    "
      ],
      "text/plain": [
       "<IPython.core.display.Javascript object>"
      ]
     },
     "metadata": {},
     "output_type": "display_data"
    },
    {
     "data": {
      "application/javascript": [
       "\n",
       "        if (window._pyforest_update_imports_cell) { window._pyforest_update_imports_cell('import matplotlib.pyplot as plt'); }\n",
       "    "
      ],
      "text/plain": [
       "<IPython.core.display.Javascript object>"
      ]
     },
     "metadata": {},
     "output_type": "display_data"
    },
    {
     "data": {
      "application/javascript": [
       "\n",
       "        if (window._pyforest_update_imports_cell) { window._pyforest_update_imports_cell('import matplotlib.pyplot as plt'); }\n",
       "    "
      ],
      "text/plain": [
       "<IPython.core.display.Javascript object>"
      ]
     },
     "metadata": {},
     "output_type": "display_data"
    },
    {
     "data": {
      "image/png": "[encoded data removed]",
      "text/plain": [
       "<Figure size 432x288 with 1 Axes>"
      ]
     },
     "metadata": {
      "needs_background": "light"
     },
     "output_type": "display_data"
    }
   ],
   "source": [
    "# Visualize predictor variable vs logit values for Fare\n",
    "plt.scatter(x = df_titanic['Fare'].values, y = log_odds);\n",
    "plt.xlabel(\"Fare\")\n",
    "plt.ylabel(\"Log-odds\")\n",
    "plt.show()"
   ]
  },
  {
   "cell_type": "markdown",
   "metadata": {},
   "source": [
    "Confirming that there is logit NON-linearity for the `Fare` variable (Recall earlier that p value for `Fare:Log Fare` is <0.001)"
   ]
  },
  {
   "cell_type": "markdown",
   "metadata": {},
   "source": [
    "___\n",
    "<a name='assumption-outlier'></a>\n",
    "### Assumption 3 - No strongly influential outliers\n",
    "- Influential values are extreme individual data points that can alter the quality of the logistic regression model.\n",
    "- Cook’s Distance is an estimate of the influence of a data point. It takes into account both the leverage and residual of each observation. Cook’s Distance is a summary of how much a regression model changes when the **i**th observation is removed.\n",
    "- A general rule of thumb is that any observation with a Cook’s distance greater than 4/n (where n = total observations) is considered to be influential (https://www.statology.org/cooks-distance-python/ and https://www.scikit-yb.org/en/latest/api/regressor/influence.html?highlight=cook#module-yellowbrick.regressor.influence), though there are even more generic cutoff values of >0.5-1.0.\n",
    "- For outliers, we can use the absolute standardized residuals to identify them (std resid > 3)\n",
    "- Reference: https://www.statsmodels.org/dev/examples/notebooks/generated/influence_glm_logit.html"
   ]
  },
  {
   "cell_type": "code",
   "execution_count": 12,
   "metadata": {},
   "outputs": [
    {
     "name": "stdout",
     "output_type": "stream",
     "text": [
      "                 Generalized Linear Model Regression Results                  \n",
      "==============================================================================\n",
      "Dep. Variable:               Survived   No. Observations:                  891\n",
      "Model:                            GLM   Df Residuals:                      882\n",
      "Model Family:                Binomial   Df Model:                            8\n",
      "Link Function:                  logit   Scale:                          1.0000\n",
      "Method:                          IRLS   Log-Likelihood:                -398.95\n",
      "Date:                Mon, 04 Oct 2021   Deviance:                       797.91\n",
      "Time:                        12:08:23   Pearson chi2:                     933.\n",
      "No. Iterations:                     5                                         \n",
      "Covariance Type:            nonrobust                                         \n",
      "===============================================================================\n",
      "                  coef    std err          z      P>|z|      [0.025      0.975]\n",
      "-------------------------------------------------------------------------------\n",
      "Age            -0.0333      0.008     -4.397      0.000      -0.048      -0.018\n",
      "Fare            0.0004      0.002      0.164      0.870      -0.004       0.005\n",
      "TravelAlone     0.0695      0.196      0.354      0.723      -0.315       0.454\n",
      "Pclass_2       -0.9406      0.291     -3.236      0.001      -1.510      -0.371\n",
      "Pclass_3       -2.2737      0.289     -7.870      0.000      -2.840      -1.707\n",
      "Embarked_Q     -0.0337      0.373     -0.091      0.928      -0.764       0.697\n",
      "Embarked_S     -0.5540      0.235     -2.353      0.019      -1.015      -0.093\n",
      "Sex_male       -2.5918      0.196    -13.206      0.000      -2.977      -2.207\n",
      "const           3.7977      0.456      8.326      0.000       2.904       4.692\n",
      "===============================================================================\n"
     ]
    }
   ],
   "source": [
    "# Use GLM method for logreg here so that we can retrieve the influence measures\n",
    "logit_model = GLM(y, X, family=families.Binomial())\n",
    "logit_results = logit_model.fit()\n",
    "print(logit_results.summary())"
   ]
  },
  {
   "cell_type": "code",
   "execution_count": 13,
   "metadata": {
    "scrolled": true
   },
   "outputs": [
    {
     "data": {
      "application/javascript": [
       "\n",
       "        if (window._pyforest_update_imports_cell) { window._pyforest_update_imports_cell('import matplotlib.pyplot as plt\\nfrom scipy import stats'); }\n",
       "    "
      ],
      "text/plain": [
       "<IPython.core.display.Javascript object>"
      ]
     },
     "metadata": {},
     "output_type": "display_data"
    },
    {
     "name": "stderr",
     "output_type": "stream",
     "text": [
      "<ipython-input-13-3bac274b0098>:11: SettingWithCopyWarning: \n",
      "A value is trying to be set on a copy of a slice from a DataFrame.\n",
      "Try using .loc[row_indexer,col_indexer] = value instead\n",
      "\n",
      "See the caveats in the documentation: https://pandas.pydata.org/pandas-docs/stable/user_guide/indexing.html#returning-a-view-versus-a-copy\n",
      "  diagnosis_df['std_resid'] = stats.zscore(logit_results.resid_pearson)\n",
      "<ipython-input-13-3bac274b0098>:12: SettingWithCopyWarning: \n",
      "A value is trying to be set on a copy of a slice from a DataFrame.\n",
      "Try using .loc[row_indexer,col_indexer] = value instead\n",
      "\n",
      "See the caveats in the documentation: https://pandas.pydata.org/pandas-docs/stable/user_guide/indexing.html#returning-a-view-versus-a-copy\n",
      "  diagnosis_df['std_resid'] = diagnosis_df['std_resid'].apply(lambda x: np.abs(x))\n"
     ]
    },
    {
     "data": {
      "text/html": [
       "<div>\n",
       "<style scoped>\n",
       "    .dataframe tbody tr th:only-of-type {\n",
       "        vertical-align: middle;\n",
       "    }\n",
       "\n",
       "    .dataframe tbody tr th {\n",
       "        vertical-align: top;\n",
       "    }\n",
       "\n",
       "    .dataframe thead th {\n",
       "        text-align: right;\n",
       "    }\n",
       "</style>\n",
       "<table border=\"1\" class=\"dataframe\">\n",
       "  <thead>\n",
       "    <tr style=\"text-align: right;\">\n",
       "      <th></th>\n",
       "      <th>cooks_d</th>\n",
       "      <th>std_resid</th>\n",
       "    </tr>\n",
       "  </thead>\n",
       "  <tbody>\n",
       "    <tr>\n",
       "      <th>0</th>\n",
       "      <td>0.000041</td>\n",
       "      <td>0.330871</td>\n",
       "    </tr>\n",
       "    <tr>\n",
       "      <th>1</th>\n",
       "      <td>0.000046</td>\n",
       "      <td>0.243040</td>\n",
       "    </tr>\n",
       "    <tr>\n",
       "      <th>2</th>\n",
       "      <td>0.001006</td>\n",
       "      <td>0.866265</td>\n",
       "    </tr>\n",
       "    <tr>\n",
       "      <th>3</th>\n",
       "      <td>0.000091</td>\n",
       "      <td>0.313547</td>\n",
       "    </tr>\n",
       "    <tr>\n",
       "      <th>4</th>\n",
       "      <td>0.000017</td>\n",
       "      <td>0.280754</td>\n",
       "    </tr>\n",
       "    <tr>\n",
       "      <th>...</th>\n",
       "      <td>...</td>\n",
       "      <td>...</td>\n",
       "    </tr>\n",
       "    <tr>\n",
       "      <th>886</th>\n",
       "      <td>0.000292</td>\n",
       "      <td>0.589428</td>\n",
       "    </tr>\n",
       "    <tr>\n",
       "      <th>887</th>\n",
       "      <td>0.000049</td>\n",
       "      <td>0.225427</td>\n",
       "    </tr>\n",
       "    <tr>\n",
       "      <th>888</th>\n",
       "      <td>0.001102</td>\n",
       "      <td>1.029623</td>\n",
       "    </tr>\n",
       "    <tr>\n",
       "      <th>889</th>\n",
       "      <td>0.001417</td>\n",
       "      <td>0.763489</td>\n",
       "    </tr>\n",
       "    <tr>\n",
       "      <th>890</th>\n",
       "      <td>0.000133</td>\n",
       "      <td>0.372182</td>\n",
       "    </tr>\n",
       "  </tbody>\n",
       "</table>\n",
       "<p>891 rows × 2 columns</p>\n",
       "</div>"
      ],
      "text/plain": [
       "      cooks_d  std_resid\n",
       "0    0.000041   0.330871\n",
       "1    0.000046   0.243040\n",
       "2    0.001006   0.866265\n",
       "3    0.000091   0.313547\n",
       "4    0.000017   0.280754\n",
       "..        ...        ...\n",
       "886  0.000292   0.589428\n",
       "887  0.000049   0.225427\n",
       "888  0.001102   1.029623\n",
       "889  0.001417   0.763489\n",
       "890  0.000133   0.372182\n",
       "\n",
       "[891 rows x 2 columns]"
      ]
     },
     "execution_count": 13,
     "metadata": {},
     "output_type": "execute_result"
    }
   ],
   "source": [
    "# Get influence measures\n",
    "influence = logit_results.get_influence()\n",
    "\n",
    "# Obtain summary df of influence measures\n",
    "summ_df = influence.summary_frame()\n",
    "\n",
    "# Filter summary df to Cook distance\n",
    "diagnosis_df = summ_df[['cooks_d']]\n",
    "\n",
    "# Append absolute standardized residual values\n",
    "diagnosis_df['std_resid'] = stats.zscore(logit_results.resid_pearson)\n",
    "diagnosis_df['std_resid'] = diagnosis_df['std_resid'].apply(lambda x: np.abs(x))\n",
    "\n",
    "# Sort by Cook's Distance\n",
    "diagnosis_df.sort_values(\"cooks_d\", ascending=False)\n",
    "diagnosis_df"
   ]
  },
  {
   "cell_type": "code",
   "execution_count": 14,
   "metadata": {},
   "outputs": [
    {
     "name": "stdout",
     "output_type": "stream",
     "text": [
      "Threshold for Cook Distance = 0.004489337822671156\n"
     ]
    }
   ],
   "source": [
    "# Set Cook's distance threshold\n",
    "cook_threshold = 4 / len(df_titanic)\n",
    "print(f\"Threshold for Cook Distance = {cook_threshold}\")"
   ]
  },
  {
   "cell_type": "code",
   "execution_count": 15,
   "metadata": {},
   "outputs": [
    {
     "data": {
      "application/javascript": [
       "\n",
       "        if (window._pyforest_update_imports_cell) { window._pyforest_update_imports_cell('import matplotlib.pyplot as plt\\nfrom scipy import stats'); }\n",
       "    "
      ],
      "text/plain": [
       "<IPython.core.display.Javascript object>"
      ]
     },
     "metadata": {},
     "output_type": "display_data"
    },
    {
     "data": {
      "image/png": "[encoded data removed]",
      "text/plain": [
       "<Figure size 432x288 with 1 Axes>"
      ]
     },
     "metadata": {
      "needs_background": "light"
     },
     "output_type": "display_data"
    }
   ],
   "source": [
    "# Plot influence measures (Cook's distance)\n",
    "fig = influence.plot_index(y_var=\"cooks\", threshold=cook_threshold)\n",
    "plt.axhline(y = cook_threshold, ls=\"--\", color='red')\n",
    "fig.tight_layout(pad=2)"
   ]
  },
  {
   "cell_type": "code",
   "execution_count": 16,
   "metadata": {},
   "outputs": [
    {
     "name": "stdout",
     "output_type": "stream",
     "text": [
      "Proportion of data points that are highly influential = 6.1%\n"
     ]
    }
   ],
   "source": [
    "# Find number of observations that exceed Cook's distance threshold\n",
    "outliers = diagnosis_df[diagnosis_df['cooks_d'] > cook_threshold]\n",
    "prop_outliers = round(100*(len(outliers) / len(df_titanic)),1)\n",
    "print(f'Proportion of data points that are highly influential = {prop_outliers}%')"
   ]
  },
  {
   "cell_type": "code",
   "execution_count": 17,
   "metadata": {},
   "outputs": [
    {
     "name": "stdout",
     "output_type": "stream",
     "text": [
      "Proportion of highly influential outliers = 1.3%\n"
     ]
    }
   ],
   "source": [
    "# Find number of observations which are BOTH outlier (std dev > 3) and highly influential\n",
    "extreme = diagnosis_df[(diagnosis_df['cooks_d'] > cook_threshold) & \n",
    "                       (diagnosis_df['std_resid'] > 3)]\n",
    "prop_extreme = round(100*(len(extreme) / len(df_titanic)),1)\n",
    "print(f'Proportion of highly influential outliers = {prop_extreme}%')"
   ]
  },
  {
   "cell_type": "code",
   "execution_count": 18,
   "metadata": {},
   "outputs": [
    {
     "data": {
      "text/html": [
       "<div>\n",
       "<style scoped>\n",
       "    .dataframe tbody tr th:only-of-type {\n",
       "        vertical-align: middle;\n",
       "    }\n",
       "\n",
       "    .dataframe tbody tr th {\n",
       "        vertical-align: top;\n",
       "    }\n",
       "\n",
       "    .dataframe thead th {\n",
       "        text-align: right;\n",
       "    }\n",
       "</style>\n",
       "<table border=\"1\" class=\"dataframe\">\n",
       "  <thead>\n",
       "    <tr style=\"text-align: right;\">\n",
       "      <th></th>\n",
       "      <th>cooks_d</th>\n",
       "      <th>std_resid</th>\n",
       "    </tr>\n",
       "  </thead>\n",
       "  <tbody>\n",
       "    <tr>\n",
       "      <th>297</th>\n",
       "      <td>0.015636</td>\n",
       "      <td>4.951289</td>\n",
       "    </tr>\n",
       "    <tr>\n",
       "      <th>570</th>\n",
       "      <td>0.009277</td>\n",
       "      <td>3.030644</td>\n",
       "    </tr>\n",
       "    <tr>\n",
       "      <th>498</th>\n",
       "      <td>0.008687</td>\n",
       "      <td>3.384369</td>\n",
       "    </tr>\n",
       "    <tr>\n",
       "      <th>338</th>\n",
       "      <td>0.005917</td>\n",
       "      <td>4.461842</td>\n",
       "    </tr>\n",
       "    <tr>\n",
       "      <th>414</th>\n",
       "      <td>0.005666</td>\n",
       "      <td>4.387731</td>\n",
       "    </tr>\n",
       "  </tbody>\n",
       "</table>\n",
       "</div>"
      ],
      "text/plain": [
       "      cooks_d  std_resid\n",
       "297  0.015636   4.951289\n",
       "570  0.009277   3.030644\n",
       "498  0.008687   3.384369\n",
       "338  0.005917   4.461842\n",
       "414  0.005666   4.387731"
      ]
     },
     "execution_count": 18,
     "metadata": {},
     "output_type": "execute_result"
    }
   ],
   "source": [
    "# Display top 5 most influential outliers\n",
    "extreme.sort_values(\"cooks_d\", ascending=False).head()"
   ]
  },
  {
   "cell_type": "code",
   "execution_count": 19,
   "metadata": {},
   "outputs": [
    {
     "data": {
      "text/plain": [
       "Survived         0.00\n",
       "Age              2.00\n",
       "Fare           151.55\n",
       "TravelAlone      0.00\n",
       "Pclass_2         0.00\n",
       "Pclass_3         0.00\n",
       "Embarked_Q       0.00\n",
       "Embarked_S       1.00\n",
       "Sex_male         0.00\n",
       "Name: 297, dtype: float64"
      ]
     },
     "execution_count": 19,
     "metadata": {},
     "output_type": "execute_result"
    }
   ],
   "source": [
    "# Deep dive into index 297 (extreme outlier)\n",
    "df_titanic.iloc[297]"
   ]
  },
  {
   "cell_type": "markdown",
   "metadata": {},
   "source": [
    "- It is important to note that for data points with relative high Cook's distances, it does **not** automatically mean that it should be immediately removed from the dataset. It is essentially an indicator to highlight which data points are worth looking deeper into, to understand whether they are true anomalies or not\n",
    "- In practice, an assessment of “large” values is a judgement call based on experience and the particular set of data being analyzed.\n",
    "- In addition, based on our pre-defined threshold (4/N), only 5% (51/891) of the points are in the outlier zone, which is small as well. The issue comes when there is a significant number of data points classified as outliers.\n",
    "- The management of outliers is outside the scope of this demo"
   ]
  },
  {
   "cell_type": "markdown",
   "metadata": {},
   "source": [
    "___\n",
    "<a name='assumption-multicollinearity'></a>\n",
    "### Assumption 4 - Absence of multicollinearity"
   ]
  },
  {
   "cell_type": "code",
   "execution_count": 20,
   "metadata": {},
   "outputs": [
    {
     "data": {
      "application/javascript": [
       "\n",
       "        if (window._pyforest_update_imports_cell) { window._pyforest_update_imports_cell('import matplotlib.pyplot as plt\\nfrom scipy import stats'); }\n",
       "    "
      ],
      "text/plain": [
       "<IPython.core.display.Javascript object>"
      ]
     },
     "metadata": {},
     "output_type": "display_data"
    },
    {
     "data": {
      "application/javascript": [
       "\n",
       "        if (window._pyforest_update_imports_cell) { window._pyforest_update_imports_cell('import matplotlib.pyplot as plt\\nfrom scipy import stats'); }\n",
       "    "
      ],
      "text/plain": [
       "<IPython.core.display.Javascript object>"
      ]
     },
     "metadata": {},
     "output_type": "display_data"
    },
    {
     "data": {
      "image/png": "[encoded data removed]",
      "text/plain": [
       "<Figure size 648x360 with 2 Axes>"
      ]
     },
     "metadata": {
      "needs_background": "light"
     },
     "output_type": "display_data"
    }
   ],
   "source": [
    "corrMatrix = df_titanic.corr()\n",
    "plt.subplots(figsize=(9, 5))\n",
    "sns.heatmap(corrMatrix, annot=True, cmap=\"RdYlGn\")\n",
    "plt.show()"
   ]
  },
  {
   "cell_type": "markdown",
   "metadata": {},
   "source": [
    "- Correlation matrix can be difficult to interpret when there are many independent variables\n",
    "- Furthermore, not all collinearity problems can be detected by inspection of the correlation matrix: it is possible for collinearity to exist between three or more variables even if no pair of variables has a particularly high correlation. \n",
    "- As such, we use Variance Inflation Factor (VIF) instead"
   ]
  },
  {
   "cell_type": "markdown",
   "metadata": {},
   "source": [
    "#### Variance Inflation Factor (VIF)"
   ]
  },
  {
   "cell_type": "code",
   "execution_count": 21,
   "metadata": {},
   "outputs": [
    {
     "data": {
      "text/html": [
       "<div>\n",
       "<style scoped>\n",
       "    .dataframe tbody tr th:only-of-type {\n",
       "        vertical-align: middle;\n",
       "    }\n",
       "\n",
       "    .dataframe tbody tr th {\n",
       "        vertical-align: top;\n",
       "    }\n",
       "\n",
       "    .dataframe thead th {\n",
       "        text-align: right;\n",
       "    }\n",
       "</style>\n",
       "<table border=\"1\" class=\"dataframe\">\n",
       "  <thead>\n",
       "    <tr style=\"text-align: right;\">\n",
       "      <th></th>\n",
       "      <th>variables</th>\n",
       "      <th>VIF</th>\n",
       "    </tr>\n",
       "  </thead>\n",
       "  <tbody>\n",
       "    <tr>\n",
       "      <th>0</th>\n",
       "      <td>Survived</td>\n",
       "      <td>1.944148</td>\n",
       "    </tr>\n",
       "    <tr>\n",
       "      <th>1</th>\n",
       "      <td>Age</td>\n",
       "      <td>5.005814</td>\n",
       "    </tr>\n",
       "    <tr>\n",
       "      <th>2</th>\n",
       "      <td>Fare</td>\n",
       "      <td>1.793238</td>\n",
       "    </tr>\n",
       "    <tr>\n",
       "      <th>3</th>\n",
       "      <td>TravelAlone</td>\n",
       "      <td>3.030957</td>\n",
       "    </tr>\n",
       "    <tr>\n",
       "      <th>4</th>\n",
       "      <td>Pclass_2</td>\n",
       "      <td>1.968630</td>\n",
       "    </tr>\n",
       "    <tr>\n",
       "      <th>5</th>\n",
       "      <td>Pclass_3</td>\n",
       "      <td>3.524367</td>\n",
       "    </tr>\n",
       "    <tr>\n",
       "      <th>6</th>\n",
       "      <td>Embarked_Q</td>\n",
       "      <td>1.591633</td>\n",
       "    </tr>\n",
       "    <tr>\n",
       "      <th>7</th>\n",
       "      <td>Embarked_S</td>\n",
       "      <td>4.795192</td>\n",
       "    </tr>\n",
       "    <tr>\n",
       "      <th>8</th>\n",
       "      <td>Sex_male</td>\n",
       "      <td>3.708845</td>\n",
       "    </tr>\n",
       "  </tbody>\n",
       "</table>\n",
       "</div>"
      ],
      "text/plain": [
       "     variables       VIF\n",
       "0     Survived  1.944148\n",
       "1          Age  5.005814\n",
       "2         Fare  1.793238\n",
       "3  TravelAlone  3.030957\n",
       "4     Pclass_2  1.968630\n",
       "5     Pclass_3  3.524367\n",
       "6   Embarked_Q  1.591633\n",
       "7   Embarked_S  4.795192\n",
       "8     Sex_male  3.708845"
      ]
     },
     "execution_count": 21,
     "metadata": {},
     "output_type": "execute_result"
    }
   ],
   "source": [
    "# Use variance inflation factor to identify any significant multi-collinearity\n",
    "def calc_vif(df):\n",
    "    vif = pd.DataFrame()\n",
    "    vif[\"variables\"] = df.columns\n",
    "    vif[\"VIF\"] = [variance_inflation_factor(df.values, i) for i in range(df.shape[1])]\n",
    "    return(vif)\n",
    "\n",
    "calc_vif(df_titanic)"
   ]
  },
  {
   "cell_type": "markdown",
   "metadata": {},
   "source": [
    "- The threshold for VIF is usually 5 (i.e. values above 5 means there is presence of multicollinearity)\n",
    "- Since all the variables have VIF <5,  it means that there is no multicollinearity, and this assumption is satisfied\n",
    "- Let's have a look at the situation where we did **not** drop the first variable upon getting dummies:"
   ]
  },
  {
   "cell_type": "code",
   "execution_count": 22,
   "metadata": {},
   "outputs": [
    {
     "data": {
      "text/html": [
       "<div>\n",
       "<style scoped>\n",
       "    .dataframe tbody tr th:only-of-type {\n",
       "        vertical-align: middle;\n",
       "    }\n",
       "\n",
       "    .dataframe tbody tr th {\n",
       "        vertical-align: top;\n",
       "    }\n",
       "\n",
       "    .dataframe thead th {\n",
       "        text-align: right;\n",
       "    }\n",
       "</style>\n",
       "<table border=\"1\" class=\"dataframe\">\n",
       "  <thead>\n",
       "    <tr style=\"text-align: right;\">\n",
       "      <th></th>\n",
       "      <th>variables</th>\n",
       "      <th>VIF</th>\n",
       "    </tr>\n",
       "  </thead>\n",
       "  <tbody>\n",
       "    <tr>\n",
       "      <th>0</th>\n",
       "      <td>Survived</td>\n",
       "      <td>1.636129</td>\n",
       "    </tr>\n",
       "    <tr>\n",
       "      <th>1</th>\n",
       "      <td>Age</td>\n",
       "      <td>1.247705</td>\n",
       "    </tr>\n",
       "    <tr>\n",
       "      <th>2</th>\n",
       "      <td>Fare</td>\n",
       "      <td>1.690089</td>\n",
       "    </tr>\n",
       "    <tr>\n",
       "      <th>3</th>\n",
       "      <td>TravelAlone</td>\n",
       "      <td>1.223353</td>\n",
       "    </tr>\n",
       "    <tr>\n",
       "      <th>4</th>\n",
       "      <td>Pclass_1</td>\n",
       "      <td>117.152079</td>\n",
       "    </tr>\n",
       "    <tr>\n",
       "      <th>5</th>\n",
       "      <td>Pclass_2</td>\n",
       "      <td>99.102382</td>\n",
       "    </tr>\n",
       "    <tr>\n",
       "      <th>6</th>\n",
       "      <td>Pclass_3</td>\n",
       "      <td>260.025558</td>\n",
       "    </tr>\n",
       "    <tr>\n",
       "      <th>7</th>\n",
       "      <td>Embarked_C</td>\n",
       "      <td>69.936806</td>\n",
       "    </tr>\n",
       "    <tr>\n",
       "      <th>8</th>\n",
       "      <td>Embarked_Q</td>\n",
       "      <td>36.792002</td>\n",
       "    </tr>\n",
       "    <tr>\n",
       "      <th>9</th>\n",
       "      <td>Embarked_S</td>\n",
       "      <td>91.326578</td>\n",
       "    </tr>\n",
       "    <tr>\n",
       "      <th>10</th>\n",
       "      <td>Sex_male</td>\n",
       "      <td>1.539417</td>\n",
       "    </tr>\n",
       "  </tbody>\n",
       "</table>\n",
       "</div>"
      ],
      "text/plain": [
       "      variables         VIF\n",
       "0      Survived    1.636129\n",
       "1           Age    1.247705\n",
       "2          Fare    1.690089\n",
       "3   TravelAlone    1.223353\n",
       "4      Pclass_1  117.152079\n",
       "5      Pclass_2   99.102382\n",
       "6      Pclass_3  260.025558\n",
       "7    Embarked_C   69.936806\n",
       "8    Embarked_Q   36.792002\n",
       "9    Embarked_S   91.326578\n",
       "10     Sex_male    1.539417"
      ]
     },
     "execution_count": 22,
     "metadata": {},
     "output_type": "execute_result"
    }
   ],
   "source": [
    "# Avoid dropping first variables upon get_dummies\n",
    "df_test = pd.get_dummies(df_raw, columns=[\"Pclass\",\"Embarked\",\"Sex\"], \n",
    "                           drop_first=False)\n",
    "df_test.drop('Sex_female', axis=1, inplace=True)\n",
    "df_test[\"Age\"].fillna(df_test[\"Age\"].median(skipna=True), inplace=True)\n",
    "calc_vif(df_test)"
   ]
  },
  {
   "cell_type": "markdown",
   "metadata": {},
   "source": [
    "- From the above results, we can see that there are numerous VIF values way above the threshold of 5 when we do not drop at least 1 category from the dummy categories we generated\n",
    "- This is a clear sign of multicollinearity"
   ]
  },
  {
   "cell_type": "markdown",
   "metadata": {},
   "source": [
    "___\n",
    "<a name='assumption-independence'></a>\n",
    "### Assumption 5 - Independence of observations\n",
    "- Error terms need to be independent. That is that the data-points should not be from any dependent samples design, e.g., before-after measurements, or matched pairings. "
   ]
  },
  {
   "cell_type": "code",
   "execution_count": 23,
   "metadata": {
    "scrolled": true
   },
   "outputs": [
    {
     "name": "stdout",
     "output_type": "stream",
     "text": [
      "                 Generalized Linear Model Regression Results                  \n",
      "==============================================================================\n",
      "Dep. Variable:               Survived   No. Observations:                  891\n",
      "Model:                            GLM   Df Residuals:                      882\n",
      "Model Family:                Binomial   Df Model:                            8\n",
      "Link Function:                  logit   Scale:                          1.0000\n",
      "Method:                          IRLS   Log-Likelihood:                -398.95\n",
      "Date:                Mon, 04 Oct 2021   Deviance:                       797.91\n",
      "Time:                        12:08:26   Pearson chi2:                     933.\n",
      "No. Iterations:                     5                                         \n",
      "Covariance Type:            nonrobust                                         \n",
      "===============================================================================\n",
      "                  coef    std err          z      P>|z|      [0.025      0.975]\n",
      "-------------------------------------------------------------------------------\n",
      "Age            -0.0333      0.008     -4.397      0.000      -0.048      -0.018\n",
      "Fare            0.0004      0.002      0.164      0.870      -0.004       0.005\n",
      "TravelAlone     0.0695      0.196      0.354      0.723      -0.315       0.454\n",
      "Pclass_2       -0.9406      0.291     -3.236      0.001      -1.510      -0.371\n",
      "Pclass_3       -2.2737      0.289     -7.870      0.000      -2.840      -1.707\n",
      "Embarked_Q     -0.0337      0.373     -0.091      0.928      -0.764       0.697\n",
      "Embarked_S     -0.5540      0.235     -2.353      0.019      -1.015      -0.093\n",
      "Sex_male       -2.5918      0.196    -13.206      0.000      -2.977      -2.207\n",
      "const           3.7977      0.456      8.326      0.000       2.904       4.692\n",
      "===============================================================================\n"
     ]
    }
   ],
   "source": [
    "# Setup logistic regression model (using GLM method so that we can retrieve residuals)\n",
    "logit_model = GLM(y, X, family=families.Binomial())\n",
    "logit_results = logit_model.fit()\n",
    "print(logit_results.summary())"
   ]
  },
  {
   "cell_type": "markdown",
   "metadata": {},
   "source": [
    "#### Check residuals series"
   ]
  },
  {
   "cell_type": "code",
   "execution_count": 24,
   "metadata": {},
   "outputs": [
    {
     "data": {
      "application/javascript": [
       "\n",
       "        if (window._pyforest_update_imports_cell) { window._pyforest_update_imports_cell('import matplotlib.pyplot as plt\\nfrom scipy import stats'); }\n",
       "    "
      ],
      "text/plain": [
       "<IPython.core.display.Javascript object>"
      ]
     },
     "metadata": {},
     "output_type": "display_data"
    },
    {
     "data": {
      "application/javascript": [
       "\n",
       "        if (window._pyforest_update_imports_cell) { window._pyforest_update_imports_cell('import matplotlib.pyplot as plt\\nfrom scipy import stats'); }\n",
       "    "
      ],
      "text/plain": [
       "<IPython.core.display.Javascript object>"
      ]
     },
     "metadata": {},
     "output_type": "display_data"
    },
    {
     "data": {
      "application/javascript": [
       "\n",
       "        if (window._pyforest_update_imports_cell) { window._pyforest_update_imports_cell('import matplotlib.pyplot as plt\\nfrom scipy import stats'); }\n",
       "    "
      ],
      "text/plain": [
       "<IPython.core.display.Javascript object>"
      ]
     },
     "metadata": {},
     "output_type": "display_data"
    },
    {
     "data": {
      "image/png": "[encoded data removed]",
      "text/plain": [
       "<Figure size 576x360 with 1 Axes>"
      ]
     },
     "metadata": {
      "needs_background": "light"
     },
     "output_type": "display_data"
    }
   ],
   "source": [
    "# Generate residual series plot\n",
    "fig = plt.figure(figsize=(8,5))\n",
    "ax = fig.add_subplot(111, title=\"Residual Series Plot\",\n",
    "    xlabel=\"Index Number\", ylabel=\"Deviance Residuals\")\n",
    "\n",
    "# ax.plot(df_titanic_2.index.tolist(), stats.zscore(logit_results.resid_pearson))\n",
    "ax.plot(df_titanic.index.tolist(), stats.zscore(logit_results.resid_deviance))\n",
    "plt.axhline(y = 0, ls=\"--\", color='red');"
   ]
  },
  {
   "cell_type": "markdown",
   "metadata": {},
   "source": [
    "- From the above Deviance residuals versus index number plot, we can see that the assumption of independence of errors is satisfied"
   ]
  },
  {
   "cell_type": "markdown",
   "metadata": {},
   "source": [
    "#### Further investigation on residual dependence plots (Optional)\n",
    "- This is additional investigation. The above check on residuals series (based on index numbers) is sufficient\n",
    "- Reference: https://freakonometrics.hypotheses.org/8210"
   ]
  },
  {
   "cell_type": "code",
   "execution_count": 25,
   "metadata": {},
   "outputs": [
    {
     "data": {
      "application/javascript": [
       "\n",
       "        if (window._pyforest_update_imports_cell) { window._pyforest_update_imports_cell('import matplotlib.pyplot as plt\\nfrom scipy import stats'); }\n",
       "    "
      ],
      "text/plain": [
       "<IPython.core.display.Javascript object>"
      ]
     },
     "metadata": {},
     "output_type": "display_data"
    },
    {
     "data": {
      "application/javascript": [
       "\n",
       "        if (window._pyforest_update_imports_cell) { window._pyforest_update_imports_cell('import matplotlib.pyplot as plt\\nfrom scipy import stats'); }\n",
       "    "
      ],
      "text/plain": [
       "<IPython.core.display.Javascript object>"
      ]
     },
     "metadata": {},
     "output_type": "display_data"
    },
    {
     "data": {
      "image/png": "[encoded data removed]",
      "text/plain": [
       "<Figure size 576x360 with 1 Axes>"
      ]
     },
     "metadata": {
      "needs_background": "light"
     },
     "output_type": "display_data"
    }
   ],
   "source": [
    "fig = plt.figure(figsize=(8, 5))\n",
    "ax = fig.add_subplot(\n",
    "    111,\n",
    "    title=\"Residual Dependence Plot\",\n",
    "    xlabel=\"Fitted Values\",\n",
    "    ylabel=\"Pearson Residuals\",\n",
    ")\n",
    "# ax.scatter(logit_results.mu, stats.zscore(logit_results.resid_pearson))\n",
    "ax.scatter(logit_results.mu, stats.zscore(logit_results.resid_deviance))\n",
    "ax.axis(\"tight\")\n",
    "ax.plot([0.0, 1.0], [0.0, 0.0], \"k-\");"
   ]
  },
  {
   "cell_type": "markdown",
   "metadata": {},
   "source": [
    "#### Add a Locally Weighted Scatterplot Smoothing (LOWESS) line to better visualize independence"
   ]
  },
  {
   "cell_type": "code",
   "execution_count": 26,
   "metadata": {},
   "outputs": [
    {
     "data": {
      "application/javascript": [
       "\n",
       "        if (window._pyforest_update_imports_cell) { window._pyforest_update_imports_cell('import matplotlib.pyplot as plt\\nfrom scipy import stats'); }\n",
       "    "
      ],
      "text/plain": [
       "<IPython.core.display.Javascript object>"
      ]
     },
     "metadata": {},
     "output_type": "display_data"
    },
    {
     "data": {
      "application/javascript": [
       "\n",
       "        if (window._pyforest_update_imports_cell) { window._pyforest_update_imports_cell('import matplotlib.pyplot as plt\\nfrom scipy import stats'); }\n",
       "    "
      ],
      "text/plain": [
       "<IPython.core.display.Javascript object>"
      ]
     },
     "metadata": {},
     "output_type": "display_data"
    },
    {
     "data": {
      "image/png": "[encoded data removed]",
      "text/plain": [
       "<Figure size 576x360 with 1 Axes>"
      ]
     },
     "metadata": {
      "needs_background": "light"
     },
     "output_type": "display_data"
    }
   ],
   "source": [
    "# Setup LOWESS function\n",
    "lowess = sm.nonparametric.lowess\n",
    "\n",
    "# Get y-values from LOWESS (set return_sorted=False)\n",
    "y_hat_lowess = lowess(logit_results.resid_pearson, logit_results.mu, \n",
    "                      return_sorted = False,\n",
    "                      frac=2/3)\n",
    "\n",
    "fig = plt.figure(figsize=(8, 5))\n",
    "ax = fig.add_subplot(111,\n",
    "    title=\"Residual Dependence Plot\",\n",
    "    xlabel=\"Fitted Values\",\n",
    "    ylabel=\"Pearson Residuals\",\n",
    ")\n",
    "# ax.scatter(logit_results.mu, stats.zscore(logit_results.resid_pearson))\n",
    "ax.scatter(logit_results.mu, stats.zscore(logit_results.resid_deviance))\n",
    "ax.scatter(logit_results.mu, y_hat_lowess)\n",
    "ax.axis(\"tight\")\n",
    "ax.plot([0.0, 1.0], [0.0, 0.0], \"k-\");"
   ]
  },
  {
   "cell_type": "markdown",
   "metadata": {},
   "source": [
    "___\n",
    "<a name='assumption-size'></a>\n",
    "### Assumption 6 - Sufficiently large sample size"
   ]
  },
  {
   "cell_type": "code",
   "execution_count": 27,
   "metadata": {},
   "outputs": [
    {
     "data": {
      "text/plain": [
       "891"
      ]
     },
     "execution_count": 27,
     "metadata": {},
     "output_type": "execute_result"
    }
   ],
   "source": [
    "# Find total number of observations\n",
    "len(df_titanic)"
   ]
  },
  {
   "cell_type": "code",
   "execution_count": 28,
   "metadata": {},
   "outputs": [
    {
     "name": "stdout",
     "output_type": "stream",
     "text": [
      "1    537\n",
      "0    354\n",
      "Name: TravelAlone, dtype: int64\n",
      "0    707\n",
      "1    184\n",
      "Name: Pclass_2, dtype: int64\n",
      "1    491\n",
      "0    400\n",
      "Name: Pclass_3, dtype: int64\n",
      "0    814\n",
      "1     77\n",
      "Name: Embarked_Q, dtype: int64\n",
      "1    644\n",
      "0    247\n",
      "Name: Embarked_S, dtype: int64\n",
      "1    577\n",
      "0    314\n",
      "Name: Sex_male, dtype: int64\n"
     ]
    }
   ],
   "source": [
    "# Get value counts for independent variables (mainly focus on categorical)\n",
    "for col in df_titanic.columns.to_list()[1:]:\n",
    "    if df_titanic.dtypes[col] == 'uint8': # Keep categorical variables only\n",
    "        print(df_titanic[col].value_counts())"
   ]
  },
  {
   "cell_type": "markdown",
   "metadata": {},
   "source": [
    "- Rule of thumb is to have at least 10-20 instances of the least frequent outcome for each predictor variable in your model\n",
    "- From the value counts above, we can see that this assumption is satisfied\n",
    "\n",
    "- Another rule of thumb is to have at least 500 observations in the entire dataset\n",
    "- Overall, we have 891 observations, which is a decent dataset size to work with"
   ]
  }
 ],
 "metadata": {
  "kernelspec": {
   "display_name": "Python 3",
   "language": "python",
   "name": "python3"
  },
  "language_info": {
   "codemirror_mode": {
    "name": "ipython",
    "version": 3
   },
   "file_extension": ".py",
   "mimetype": "text/x-python",
   "name": "python",
   "nbconvert_exporter": "python",
   "pygments_lexer": "ipython3",
   "version": "3.8.3"
  }
 },
 "nbformat": 4,
 "nbformat_minor": 4
}
