{
 "cells": [
  {
   "cell_type": "markdown",
   "metadata": {},
   "source": [
    "# Logistic Regression Assumptions\n",
    "### Box-Tidwell Test\n",
    "- Using R to perform Box-Tidwell Test (or Assumption 2: Linearity of independent variables and log odds)\n",
    "- This is because Python does not have any packages that executes Box Tidwell transformation\n",
    "- Details on how to setup R kernel in Jupyter notebook: https://dzone.com/articles/using-r-on-jupyternbspnotebook\n",
    "\n",
    "#### References\n",
    "- https://stats.stackexchange.com/questions/503906/solution-in-case-of-violation-of-the-linearity-assumption-in-the-logistic-regres"
   ]
  },
  {
   "cell_type": "code",
   "execution_count": 6,
   "metadata": {},
   "outputs": [],
   "source": [
    "df_main <- read.csv(file = 'data/train_processed.csv')"
   ]
  },
  {
   "cell_type": "code",
   "execution_count": 7,
   "metadata": {},
   "outputs": [
    {
     "data": {
      "text/html": [
       "<table class=\"dataframe\">\n",
       "<caption>A data.frame: 6 × 8</caption>\n",
       "<thead>\n",
       "\t<tr><th></th><th scope=col>Survived</th><th scope=col>Age</th><th scope=col>TravelAlone</th><th scope=col>Pclass_2</th><th scope=col>Pclass_3</th><th scope=col>Embarked_Q</th><th scope=col>Embarked_S</th><th scope=col>Sex_male</th></tr>\n",
       "\t<tr><th></th><th scope=col>&lt;int&gt;</th><th scope=col>&lt;dbl&gt;</th><th scope=col>&lt;int&gt;</th><th scope=col>&lt;int&gt;</th><th scope=col>&lt;int&gt;</th><th scope=col>&lt;int&gt;</th><th scope=col>&lt;int&gt;</th><th scope=col>&lt;int&gt;</th></tr>\n",
       "</thead>\n",
       "<tbody>\n",
       "\t<tr><th scope=row>1</th><td>0</td><td>22</td><td>0</td><td>0</td><td>1</td><td>0</td><td>1</td><td>1</td></tr>\n",
       "\t<tr><th scope=row>2</th><td>1</td><td>38</td><td>0</td><td>0</td><td>0</td><td>0</td><td>0</td><td>0</td></tr>\n",
       "\t<tr><th scope=row>3</th><td>1</td><td>26</td><td>1</td><td>0</td><td>1</td><td>0</td><td>1</td><td>0</td></tr>\n",
       "\t<tr><th scope=row>4</th><td>1</td><td>35</td><td>0</td><td>0</td><td>0</td><td>0</td><td>1</td><td>0</td></tr>\n",
       "\t<tr><th scope=row>5</th><td>0</td><td>35</td><td>1</td><td>0</td><td>1</td><td>0</td><td>1</td><td>1</td></tr>\n",
       "\t<tr><th scope=row>6</th><td>0</td><td>28</td><td>1</td><td>0</td><td>1</td><td>1</td><td>0</td><td>1</td></tr>\n",
       "</tbody>\n",
       "</table>\n"
      ],
      "text/latex": [
       "A data.frame: 6 × 8\n",
       "\\begin{tabular}{r|llllllll}\n",
       "  & Survived & Age & TravelAlone & Pclass\\_2 & Pclass\\_3 & Embarked\\_Q & Embarked\\_S & Sex\\_male\\\\\n",
       "  & <int> & <dbl> & <int> & <int> & <int> & <int> & <int> & <int>\\\\\n",
       "\\hline\n",
       "\t1 & 0 & 22 & 0 & 0 & 1 & 0 & 1 & 1\\\\\n",
       "\t2 & 1 & 38 & 0 & 0 & 0 & 0 & 0 & 0\\\\\n",
       "\t3 & 1 & 26 & 1 & 0 & 1 & 0 & 1 & 0\\\\\n",
       "\t4 & 1 & 35 & 0 & 0 & 0 & 0 & 1 & 0\\\\\n",
       "\t5 & 0 & 35 & 1 & 0 & 1 & 0 & 1 & 1\\\\\n",
       "\t6 & 0 & 28 & 1 & 0 & 1 & 1 & 0 & 1\\\\\n",
       "\\end{tabular}\n"
      ],
      "text/markdown": [
       "\n",
       "A data.frame: 6 × 8\n",
       "\n",
       "| <!--/--> | Survived &lt;int&gt; | Age &lt;dbl&gt; | TravelAlone &lt;int&gt; | Pclass_2 &lt;int&gt; | Pclass_3 &lt;int&gt; | Embarked_Q &lt;int&gt; | Embarked_S &lt;int&gt; | Sex_male &lt;int&gt; |\n",
       "|---|---|---|---|---|---|---|---|---|\n",
       "| 1 | 0 | 22 | 0 | 0 | 1 | 0 | 1 | 1 |\n",
       "| 2 | 1 | 38 | 0 | 0 | 0 | 0 | 0 | 0 |\n",
       "| 3 | 1 | 26 | 1 | 0 | 1 | 0 | 1 | 0 |\n",
       "| 4 | 1 | 35 | 0 | 0 | 0 | 0 | 1 | 0 |\n",
       "| 5 | 0 | 35 | 1 | 0 | 1 | 0 | 1 | 1 |\n",
       "| 6 | 0 | 28 | 1 | 0 | 1 | 1 | 0 | 1 |\n",
       "\n"
      ],
      "text/plain": [
       "  Survived Age TravelAlone Pclass_2 Pclass_3 Embarked_Q Embarked_S Sex_male\n",
       "1 0        22  0           0        1        0          1          1       \n",
       "2 1        38  0           0        0        0          0          0       \n",
       "3 1        26  1           0        1        0          1          0       \n",
       "4 1        35  0           0        0        0          1          0       \n",
       "5 0        35  1           0        1        0          1          1       \n",
       "6 0        28  1           0        1        1          0          1       "
      ]
     },
     "metadata": {},
     "output_type": "display_data"
    }
   ],
   "source": [
    "head(df_main)"
   ]
  },
  {
   "cell_type": "code",
   "execution_count": null,
   "metadata": {},
   "outputs": [],
   "source": []
  }
 ],
 "metadata": {
  "kernelspec": {
   "display_name": "R",
   "language": "R",
   "name": "ir"
  },
  "language_info": {
   "codemirror_mode": "r",
   "file_extension": ".r",
   "mimetype": "text/x-r-source",
   "name": "R",
   "pygments_lexer": "r",
   "version": "4.1.1"
  }
 },
 "nbformat": 4,
 "nbformat_minor": 4
}
