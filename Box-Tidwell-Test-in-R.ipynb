{
 "cells": [
  {
   "cell_type": "markdown",
   "metadata": {},
   "source": [
    "# Logistic Regression Assumptions\n",
    "### Box-Tidwell Test\n",
    "- Using R to perform Box-Tidwell Test (or Assumption 2: Linearity of independent variables and log odds)\n",
    "- Details on how to setup R kernel in Jupyter notebook: https://dzone.com/articles/using-r-on-jupyternbspnotebook\n",
    "- We are using R here because Python does not have any native packages that executes Box Tidwell transformation directly\n",
    "___\n",
    "\n",
    "- One of the important assumptions of logistic regression is the linearity of the logit over the covariates. When this assumption is not met, a Box-Tidwell transformation might be helpful. \n",
    "- The Box-Tidwell Test is used to check this assumption by testing whether the logit transform is a linear function of the predictor, effectively by adding the non-linear transform of the original predictor as an interaction term to test if this addition made no better prediction.\n",
    "- A significant p-value in the Box-Tidwell transformation means that the linearity assumption is **violated**\n",
    "- If one variable is indeed found to be non-linear, then we may need to incorporate higher order polynomial terms for that variable in the regression analysis to capture the non-linearity\n",
    "\n",
    "#### References\n",
    "- https://stats.stackexchange.com/questions/503906/solution-in-case-of-violation-of-the-linearity-assumption-in-the-logistic-regres\n",
    "- https://www.youtube.com/watch?v=sciPFNcYqi8&ab_channel=MikeCrowson"
   ]
  },
  {
   "cell_type": "code",
   "execution_count": 1,
   "metadata": {
    "scrolled": true
   },
   "outputs": [
    {
     "name": "stderr",
     "output_type": "stream",
     "text": [
      "Installing package into 'C:/Users/kenne/Documents/R/win-library/4.1'\n",
      "(as 'lib' is unspecified)\n",
      "\n"
     ]
    },
    {
     "name": "stdout",
     "output_type": "stream",
     "text": [
      "package 'car' successfully unpacked and MD5 sums checked\n",
      "\n",
      "The downloaded binary packages are in\n",
      "\tC:\\Users\\kenne\\AppData\\Local\\Temp\\RtmpCsqbJe\\downloaded_packages\n"
     ]
    },
    {
     "name": "stderr",
     "output_type": "stream",
     "text": [
      "Installing package into 'C:/Users/kenne/Documents/R/win-library/4.1'\n",
      "(as 'lib' is unspecified)\n",
      "\n"
     ]
    },
    {
     "name": "stdout",
     "output_type": "stream",
     "text": [
      "package 'tidyverse' successfully unpacked and MD5 sums checked\n",
      "\n",
      "The downloaded binary packages are in\n",
      "\tC:\\Users\\kenne\\AppData\\Local\\Temp\\RtmpCsqbJe\\downloaded_packages\n"
     ]
    }
   ],
   "source": [
    "# Installing car package to make use of the box tidwell function within\n",
    "install.packages(\"car\")\n",
    "install.packages(\"tidyverse\")"
   ]
  },
  {
   "cell_type": "code",
   "execution_count": 2,
   "metadata": {},
   "outputs": [
    {
     "name": "stderr",
     "output_type": "stream",
     "text": [
      "Loading required package: carData\n",
      "\n"
     ]
    }
   ],
   "source": [
    "library(car)\n",
    "library(ggplot2)"
   ]
  },
  {
   "cell_type": "code",
   "execution_count": 43,
   "metadata": {},
   "outputs": [
    {
     "data": {
      "text/html": [
       "<table class=\"dataframe\">\n",
       "<caption>A data.frame: 6 × 8</caption>\n",
       "<thead>\n",
       "\t<tr><th></th><th scope=col>Survived</th><th scope=col>Age</th><th scope=col>TravelAlone</th><th scope=col>Pclass_2</th><th scope=col>Pclass_3</th><th scope=col>Embarked_Q</th><th scope=col>Embarked_S</th><th scope=col>Sex_male</th></tr>\n",
       "\t<tr><th></th><th scope=col>&lt;int&gt;</th><th scope=col>&lt;dbl&gt;</th><th scope=col>&lt;int&gt;</th><th scope=col>&lt;int&gt;</th><th scope=col>&lt;int&gt;</th><th scope=col>&lt;int&gt;</th><th scope=col>&lt;int&gt;</th><th scope=col>&lt;int&gt;</th></tr>\n",
       "</thead>\n",
       "<tbody>\n",
       "\t<tr><th scope=row>1</th><td>0</td><td>22</td><td>0</td><td>0</td><td>1</td><td>0</td><td>1</td><td>1</td></tr>\n",
       "\t<tr><th scope=row>2</th><td>1</td><td>38</td><td>0</td><td>0</td><td>0</td><td>0</td><td>0</td><td>0</td></tr>\n",
       "\t<tr><th scope=row>3</th><td>1</td><td>26</td><td>1</td><td>0</td><td>1</td><td>0</td><td>1</td><td>0</td></tr>\n",
       "\t<tr><th scope=row>4</th><td>1</td><td>35</td><td>0</td><td>0</td><td>0</td><td>0</td><td>1</td><td>0</td></tr>\n",
       "\t<tr><th scope=row>5</th><td>0</td><td>35</td><td>1</td><td>0</td><td>1</td><td>0</td><td>1</td><td>1</td></tr>\n",
       "\t<tr><th scope=row>6</th><td>0</td><td>28</td><td>1</td><td>0</td><td>1</td><td>1</td><td>0</td><td>1</td></tr>\n",
       "</tbody>\n",
       "</table>\n"
      ],
      "text/latex": [
       "A data.frame: 6 × 8\n",
       "\\begin{tabular}{r|llllllll}\n",
       "  & Survived & Age & TravelAlone & Pclass\\_2 & Pclass\\_3 & Embarked\\_Q & Embarked\\_S & Sex\\_male\\\\\n",
       "  & <int> & <dbl> & <int> & <int> & <int> & <int> & <int> & <int>\\\\\n",
       "\\hline\n",
       "\t1 & 0 & 22 & 0 & 0 & 1 & 0 & 1 & 1\\\\\n",
       "\t2 & 1 & 38 & 0 & 0 & 0 & 0 & 0 & 0\\\\\n",
       "\t3 & 1 & 26 & 1 & 0 & 1 & 0 & 1 & 0\\\\\n",
       "\t4 & 1 & 35 & 0 & 0 & 0 & 0 & 1 & 0\\\\\n",
       "\t5 & 0 & 35 & 1 & 0 & 1 & 0 & 1 & 1\\\\\n",
       "\t6 & 0 & 28 & 1 & 0 & 1 & 1 & 0 & 1\\\\\n",
       "\\end{tabular}\n"
      ],
      "text/markdown": [
       "\n",
       "A data.frame: 6 × 8\n",
       "\n",
       "| <!--/--> | Survived &lt;int&gt; | Age &lt;dbl&gt; | TravelAlone &lt;int&gt; | Pclass_2 &lt;int&gt; | Pclass_3 &lt;int&gt; | Embarked_Q &lt;int&gt; | Embarked_S &lt;int&gt; | Sex_male &lt;int&gt; |\n",
       "|---|---|---|---|---|---|---|---|---|\n",
       "| 1 | 0 | 22 | 0 | 0 | 1 | 0 | 1 | 1 |\n",
       "| 2 | 1 | 38 | 0 | 0 | 0 | 0 | 0 | 0 |\n",
       "| 3 | 1 | 26 | 1 | 0 | 1 | 0 | 1 | 0 |\n",
       "| 4 | 1 | 35 | 0 | 0 | 0 | 0 | 1 | 0 |\n",
       "| 5 | 0 | 35 | 1 | 0 | 1 | 0 | 1 | 1 |\n",
       "| 6 | 0 | 28 | 1 | 0 | 1 | 1 | 0 | 1 |\n",
       "\n"
      ],
      "text/plain": [
       "  Survived Age TravelAlone Pclass_2 Pclass_3 Embarked_Q Embarked_S Sex_male\n",
       "1 0        22  0           0        1        0          1          1       \n",
       "2 1        38  0           0        0        0          0          0       \n",
       "3 1        26  1           0        1        0          1          0       \n",
       "4 1        35  0           0        0        0          1          0       \n",
       "5 0        35  1           0        1        0          1          1       \n",
       "6 0        28  1           0        1        1          0          1       "
      ]
     },
     "metadata": {},
     "output_type": "display_data"
    }
   ],
   "source": [
    "# Import processed dataset (generated from Logistic_Regression_Assumptions.ipynb)\n",
    "df_main <- read.csv(file = 'data/train_processed.csv')\n",
    "head(df_main)"
   ]
  },
  {
   "cell_type": "markdown",
   "metadata": {},
   "source": [
    "### 1. Box-Tidwell Test with `car` library's `boxTidwell`\n",
    "- We can run Box-Tidwell test directly using the boxTidwell function within the `car` package"
   ]
  },
  {
   "cell_type": "code",
   "execution_count": 72,
   "metadata": {
    "scrolled": true
   },
   "outputs": [
    {
     "data": {
      "text/plain": [
       " MLE of lambda Score Statistic (z) Pr(>|z|)  \n",
       "      -0.33063              2.5659  0.01029 *\n",
       "---\n",
       "Signif. codes:  0 '***' 0.001 '**' 0.01 '*' 0.05 '.' 0.1 ' ' 1\n",
       "\n",
       "iterations =  6 "
      ]
     },
     "metadata": {},
     "output_type": "display_data"
    }
   ],
   "source": [
    "# Running Box-Tidwell test with `boxTidwell`\n",
    "boxTidwell(formula = Survived ~ Age, \n",
    "           other.x = ~ TravelAlone + Pclass_2 + Pclass_3 + Embarked_Q + Embarked_S + Sex_male, \n",
    "           data=df_main)"
   ]
  },
  {
   "cell_type": "markdown",
   "metadata": {},
   "source": [
    "- p-value = 0.01029, which is <0.05 (meaning that it is statistically significant)\n",
    "- This means that there is non-linearity in the Age feature, and the assumption has been violated\n",
    "- We can resolve this by including a polynomial term (e.g. Age^2) to account for the non-linearity"
   ]
  },
  {
   "cell_type": "markdown",
   "metadata": {},
   "source": [
    "___\n",
    "### 2. Box-Tidwell Test (add interaction terms directly)"
   ]
  },
  {
   "cell_type": "code",
   "execution_count": 69,
   "metadata": {
    "scrolled": true
   },
   "outputs": [
    {
     "data": {
      "text/plain": [
       "\n",
       "Call:\n",
       "glm(formula = Survived ~ Age + (Age:log(Age)) + TravelAlone + \n",
       "    Pclass_2 + Pclass_3 + Embarked_Q + Embarked_S + Sex_male, \n",
       "    family = binomial(link = \"logit\"), data = df_main)\n",
       "\n",
       "Deviance Residuals: \n",
       "    Min       1Q   Median       3Q      Max  \n",
       "-2.7559  -0.6605  -0.3839   0.6131   2.4597  \n",
       "\n",
       "Coefficients:\n",
       "             Estimate Std. Error z value Pr(>|z|)    \n",
       "(Intercept)   4.68042    0.54912   8.523  < 2e-16 ***\n",
       "Age          -0.19225    0.06985  -2.752 0.005917 ** \n",
       "TravelAlone   0.17958    0.19828   0.906 0.365105    \n",
       "Pclass_2     -0.93782    0.26639  -3.520 0.000431 ***\n",
       "Pclass_3     -2.26091    0.25532  -8.855  < 2e-16 ***\n",
       "Embarked_Q   -0.01964    0.37279  -0.053 0.957992    \n",
       "Embarked_S   -0.57206    0.23533  -2.431 0.015061 *  \n",
       "Sex_male     -2.64082    0.19921 -13.256  < 2e-16 ***\n",
       "Age:log(Age)  0.03672    0.01598   2.298 0.021540 *  \n",
       "---\n",
       "Signif. codes:  0 '***' 0.001 '**' 0.01 '*' 0.05 '.' 0.1 ' ' 1\n",
       "\n",
       "(Dispersion parameter for binomial family taken to be 1)\n",
       "\n",
       "    Null deviance: 1186.66  on 890  degrees of freedom\n",
       "Residual deviance:  792.68  on 882  degrees of freedom\n",
       "AIC: 810.68\n",
       "\n",
       "Number of Fisher Scoring iterations: 5\n"
      ]
     },
     "metadata": {},
     "output_type": "display_data"
    }
   ],
   "source": [
    "lreg <- glm(Survived ~ Age + (Age:log(Age)) + TravelAlone + Pclass_2 + Pclass_3 + Embarked_Q + Embarked_S + Sex_male, \n",
    "            data=df_main, \n",
    "            family=binomial(link=\"logit\"))\n",
    "logodds <- lreg$linear.predictors\n",
    "summary(lreg)"
   ]
  },
  {
   "cell_type": "code",
   "execution_count": 70,
   "metadata": {},
   "outputs": [
    {
     "data": {
      "image/png": "[encoded data removed]",
      "text/plain": [
       "plot without title"
      ]
     },
     "metadata": {
      "image/png": {
       "height": 420,
       "width": 420
      }
     },
     "output_type": "display_data"
    }
   ],
   "source": [
    "# Plot the log odds against the x (independent) predictor variable\n",
    "plot.dat <- data.frame(logodds = logodds, age = df_main$Age)\n",
    "ggplot(plot.dat, aes(x=age, y=logodds)) + geom_point()"
   ]
  },
  {
   "cell_type": "markdown",
   "metadata": {},
   "source": [
    "___"
   ]
  },
  {
   "cell_type": "code",
   "execution_count": null,
   "metadata": {},
   "outputs": [],
   "source": [
    "# # Reference: https://stackoverflow.com/questions/27278745/can-the-boxtidwell-function-handle-binary-outcome-variables\n",
    "# x<-df_main$Age\n",
    "# y<-df_main$Survived\n",
    "\n",
    "# #FIT IS DONE USING THE glm FUNCTION\n",
    "# m1res <- glm(y ~ x,family=binomial(link = \"logit\"))\n",
    "# coeff1<- coefficients(summary(m1res))\n",
    "# lnx<-x*log(x)\n",
    "# m2res <- glm(y ~ x+lnx ,family=binomial(link = \"logit\"))\n",
    "# coeff2<- coefficients(summary(m2res))\n",
    "# alpha0<-1.0\n",
    "# pvalue<-coeff2[3,4]\n",
    "\n",
    "# pvalue\n",
    "# beta1<-coeff1[2,1]\n",
    "# beta2<-coeff2[3,1]\n",
    "# iter<-0\n",
    "# err<-1\n",
    "\n",
    "# while (pvalue<0.1) {\n",
    "#     alpha <-(beta2/beta1)+alpha0 \n",
    "#     err<-abs(alpha-alpha0)\n",
    "#     alpha0<-alpha\n",
    "#     mx<-x^alpha\n",
    "#     m1res <- glm(y ~ mx,family=binomial(link = \"logit\"))\n",
    "#     coeff1<- coefficients(summary(m1res))\n",
    "#     mlnx<-mx*log(x)\n",
    "#     m2res <- glm(y ~ mx+mlnx ,family=binomial(link = \"logit\"))\n",
    "#     coeff2<- coefficients(summary(m2res))\n",
    "#     pvalue<-coeff2[3,4]\n",
    "#     beta1<-coeff1[2,1]\n",
    "#     beta2<-coeff2[3,1]\n",
    "#     iter<- iter+1\n",
    "#     }\n",
    "\n",
    "# # PRINT THE POWER TO CONSOLE\n",
    "# alpha"
   ]
  },
  {
   "cell_type": "code",
   "execution_count": 41,
   "metadata": {
    "scrolled": true
   },
   "outputs": [
    {
     "data": {
      "text/html": [
       "<table class=\"dataframe\">\n",
       "<caption>A data.frame: 102 × 6</caption>\n",
       "<thead>\n",
       "\t<tr><th></th><th scope=col>education</th><th scope=col>income</th><th scope=col>women</th><th scope=col>prestige</th><th scope=col>census</th><th scope=col>type</th></tr>\n",
       "\t<tr><th></th><th scope=col>&lt;dbl&gt;</th><th scope=col>&lt;int&gt;</th><th scope=col>&lt;dbl&gt;</th><th scope=col>&lt;dbl&gt;</th><th scope=col>&lt;int&gt;</th><th scope=col>&lt;fct&gt;</th></tr>\n",
       "</thead>\n",
       "<tbody>\n",
       "\t<tr><th scope=row>gov.administrators</th><td>13.11</td><td>12351</td><td>11.16</td><td>68.8</td><td>1113</td><td>prof</td></tr>\n",
       "\t<tr><th scope=row>general.managers</th><td>12.26</td><td>25879</td><td> 4.02</td><td>69.1</td><td>1130</td><td>prof</td></tr>\n",
       "\t<tr><th scope=row>accountants</th><td>12.77</td><td> 9271</td><td>15.70</td><td>63.4</td><td>1171</td><td>prof</td></tr>\n",
       "\t<tr><th scope=row>purchasing.officers</th><td>11.42</td><td> 8865</td><td> 9.11</td><td>56.8</td><td>1175</td><td>prof</td></tr>\n",
       "\t<tr><th scope=row>chemists</th><td>14.62</td><td> 8403</td><td>11.68</td><td>73.5</td><td>2111</td><td>prof</td></tr>\n",
       "\t<tr><th scope=row>physicists</th><td>15.64</td><td>11030</td><td> 5.13</td><td>77.6</td><td>2113</td><td>prof</td></tr>\n",
       "\t<tr><th scope=row>biologists</th><td>15.09</td><td> 8258</td><td>25.65</td><td>72.6</td><td>2133</td><td>prof</td></tr>\n",
       "\t<tr><th scope=row>architects</th><td>15.44</td><td>14163</td><td> 2.69</td><td>78.1</td><td>2141</td><td>prof</td></tr>\n",
       "\t<tr><th scope=row>civil.engineers</th><td>14.52</td><td>11377</td><td> 1.03</td><td>73.1</td><td>2143</td><td>prof</td></tr>\n",
       "\t<tr><th scope=row>mining.engineers</th><td>14.64</td><td>11023</td><td> 0.94</td><td>68.8</td><td>2153</td><td>prof</td></tr>\n",
       "\t<tr><th scope=row>surveyors</th><td>12.39</td><td> 5902</td><td> 1.91</td><td>62.0</td><td>2161</td><td>prof</td></tr>\n",
       "\t<tr><th scope=row>draughtsmen</th><td>12.30</td><td> 7059</td><td> 7.83</td><td>60.0</td><td>2163</td><td>prof</td></tr>\n",
       "\t<tr><th scope=row>computer.programers</th><td>13.83</td><td> 8425</td><td>15.33</td><td>53.8</td><td>2183</td><td>prof</td></tr>\n",
       "\t<tr><th scope=row>economists</th><td>14.44</td><td> 8049</td><td>57.31</td><td>62.2</td><td>2311</td><td>prof</td></tr>\n",
       "\t<tr><th scope=row>psychologists</th><td>14.36</td><td> 7405</td><td>48.28</td><td>74.9</td><td>2315</td><td>prof</td></tr>\n",
       "\t<tr><th scope=row>social.workers</th><td>14.21</td><td> 6336</td><td>54.77</td><td>55.1</td><td>2331</td><td>prof</td></tr>\n",
       "\t<tr><th scope=row>lawyers</th><td>15.77</td><td>19263</td><td> 5.13</td><td>82.3</td><td>2343</td><td>prof</td></tr>\n",
       "\t<tr><th scope=row>librarians</th><td>14.15</td><td> 6112</td><td>77.10</td><td>58.1</td><td>2351</td><td>prof</td></tr>\n",
       "\t<tr><th scope=row>vocational.counsellors</th><td>15.22</td><td> 9593</td><td>34.89</td><td>58.3</td><td>2391</td><td>prof</td></tr>\n",
       "\t<tr><th scope=row>ministers</th><td>14.50</td><td> 4686</td><td> 4.14</td><td>72.8</td><td>2511</td><td>prof</td></tr>\n",
       "\t<tr><th scope=row>university.teachers</th><td>15.97</td><td>12480</td><td>19.59</td><td>84.6</td><td>2711</td><td>prof</td></tr>\n",
       "\t<tr><th scope=row>primary.school.teachers</th><td>13.62</td><td> 5648</td><td>83.78</td><td>59.6</td><td>2731</td><td>prof</td></tr>\n",
       "\t<tr><th scope=row>secondary.school.teachers</th><td>15.08</td><td> 8034</td><td>46.80</td><td>66.1</td><td>2733</td><td>prof</td></tr>\n",
       "\t<tr><th scope=row>physicians</th><td>15.96</td><td>25308</td><td>10.56</td><td>87.2</td><td>3111</td><td>prof</td></tr>\n",
       "\t<tr><th scope=row>veterinarians</th><td>15.94</td><td>14558</td><td> 4.32</td><td>66.7</td><td>3115</td><td>prof</td></tr>\n",
       "\t<tr><th scope=row>osteopaths.chiropractors</th><td>14.71</td><td>17498</td><td> 6.91</td><td>68.4</td><td>3117</td><td>prof</td></tr>\n",
       "\t<tr><th scope=row>nurses</th><td>12.46</td><td> 4614</td><td>96.12</td><td>64.7</td><td>3131</td><td>prof</td></tr>\n",
       "\t<tr><th scope=row>nursing.aides</th><td> 9.45</td><td> 3485</td><td>76.14</td><td>34.9</td><td>3135</td><td>bc  </td></tr>\n",
       "\t<tr><th scope=row>physio.therapsts</th><td>13.62</td><td> 5092</td><td>82.66</td><td>72.1</td><td>3137</td><td>prof</td></tr>\n",
       "\t<tr><th scope=row>pharmacists</th><td>15.21</td><td>10432</td><td>24.71</td><td>69.3</td><td>3151</td><td>prof</td></tr>\n",
       "\t<tr><th scope=row>...</th><td>...</td><td>...</td><td>...</td><td>...</td><td>...</td><td>...</td></tr>\n",
       "\t<tr><th scope=row>canners</th><td> 7.42</td><td> 1890</td><td>72.24</td><td>23.2</td><td>8221</td><td>bc  </td></tr>\n",
       "\t<tr><th scope=row>textile.weavers</th><td> 6.69</td><td> 4443</td><td>31.36</td><td>33.3</td><td>8267</td><td>bc  </td></tr>\n",
       "\t<tr><th scope=row>textile.labourers</th><td> 6.74</td><td> 3485</td><td>39.48</td><td>28.8</td><td>8278</td><td>bc  </td></tr>\n",
       "\t<tr><th scope=row>tool.die.makers</th><td>10.09</td><td> 8043</td><td> 1.50</td><td>42.5</td><td>8311</td><td>bc  </td></tr>\n",
       "\t<tr><th scope=row>machinists</th><td> 8.81</td><td> 6686</td><td> 4.28</td><td>44.2</td><td>8313</td><td>bc  </td></tr>\n",
       "\t<tr><th scope=row>sheet.metal.workers</th><td> 8.40</td><td> 6565</td><td> 2.30</td><td>35.9</td><td>8333</td><td>bc  </td></tr>\n",
       "\t<tr><th scope=row>welders</th><td> 7.92</td><td> 6477</td><td> 5.17</td><td>41.8</td><td>8335</td><td>bc  </td></tr>\n",
       "\t<tr><th scope=row>auto.workers</th><td> 8.43</td><td> 5811</td><td>13.62</td><td>35.9</td><td>8513</td><td>bc  </td></tr>\n",
       "\t<tr><th scope=row>aircraft.workers</th><td> 8.78</td><td> 6573</td><td> 5.78</td><td>43.7</td><td>8515</td><td>bc  </td></tr>\n",
       "\t<tr><th scope=row>electronic.workers</th><td> 8.76</td><td> 3942</td><td>74.54</td><td>50.8</td><td>8534</td><td>bc  </td></tr>\n",
       "\t<tr><th scope=row>radio.tv.repairmen</th><td>10.29</td><td> 5449</td><td> 2.92</td><td>37.2</td><td>8537</td><td>bc  </td></tr>\n",
       "\t<tr><th scope=row>sewing.mach.operators</th><td> 6.38</td><td> 2847</td><td>90.67</td><td>28.2</td><td>8563</td><td>bc  </td></tr>\n",
       "\t<tr><th scope=row>auto.repairmen</th><td> 8.10</td><td> 5795</td><td> 0.81</td><td>38.1</td><td>8581</td><td>bc  </td></tr>\n",
       "\t<tr><th scope=row>aircraft.repairmen</th><td>10.10</td><td> 7716</td><td> 0.78</td><td>50.3</td><td>8582</td><td>bc  </td></tr>\n",
       "\t<tr><th scope=row>railway.sectionmen</th><td> 6.67</td><td> 4696</td><td> 0.00</td><td>27.3</td><td>8715</td><td>bc  </td></tr>\n",
       "\t<tr><th scope=row>electrical.linemen</th><td> 9.05</td><td> 8316</td><td> 1.34</td><td>40.9</td><td>8731</td><td>bc  </td></tr>\n",
       "\t<tr><th scope=row>electricians</th><td> 9.93</td><td> 7147</td><td> 0.99</td><td>50.2</td><td>8733</td><td>bc  </td></tr>\n",
       "\t<tr><th scope=row>construction.foremen</th><td> 8.24</td><td> 8880</td><td> 0.65</td><td>51.1</td><td>8780</td><td>bc  </td></tr>\n",
       "\t<tr><th scope=row>carpenters</th><td> 6.92</td><td> 5299</td><td> 0.56</td><td>38.9</td><td>8781</td><td>bc  </td></tr>\n",
       "\t<tr><th scope=row>masons</th><td> 6.60</td><td> 5959</td><td> 0.52</td><td>36.2</td><td>8782</td><td>bc  </td></tr>\n",
       "\t<tr><th scope=row>house.painters</th><td> 7.81</td><td> 4549</td><td> 2.46</td><td>29.9</td><td>8785</td><td>bc  </td></tr>\n",
       "\t<tr><th scope=row>plumbers</th><td> 8.33</td><td> 6928</td><td> 0.61</td><td>42.9</td><td>8791</td><td>bc  </td></tr>\n",
       "\t<tr><th scope=row>construction.labourers</th><td> 7.52</td><td> 3910</td><td> 1.09</td><td>26.5</td><td>8798</td><td>bc  </td></tr>\n",
       "\t<tr><th scope=row>pilots</th><td>12.27</td><td>14032</td><td> 0.58</td><td>66.1</td><td>9111</td><td>prof</td></tr>\n",
       "\t<tr><th scope=row>train.engineers</th><td> 8.49</td><td> 8845</td><td> 0.00</td><td>48.9</td><td>9131</td><td>bc  </td></tr>\n",
       "\t<tr><th scope=row>bus.drivers</th><td> 7.58</td><td> 5562</td><td> 9.47</td><td>35.9</td><td>9171</td><td>bc  </td></tr>\n",
       "\t<tr><th scope=row>taxi.drivers</th><td> 7.93</td><td> 4224</td><td> 3.59</td><td>25.1</td><td>9173</td><td>bc  </td></tr>\n",
       "\t<tr><th scope=row>longshoremen</th><td> 8.37</td><td> 4753</td><td> 0.00</td><td>26.1</td><td>9313</td><td>bc  </td></tr>\n",
       "\t<tr><th scope=row>typesetters</th><td>10.00</td><td> 6462</td><td>13.58</td><td>42.2</td><td>9511</td><td>bc  </td></tr>\n",
       "\t<tr><th scope=row>bookbinders</th><td> 8.55</td><td> 3617</td><td>70.87</td><td>35.2</td><td>9517</td><td>bc  </td></tr>\n",
       "</tbody>\n",
       "</table>\n"
      ],
      "text/latex": [
       "A data.frame: 102 × 6\n",
       "\\begin{tabular}{r|llllll}\n",
       "  & education & income & women & prestige & census & type\\\\\n",
       "  & <dbl> & <int> & <dbl> & <dbl> & <int> & <fct>\\\\\n",
       "\\hline\n",
       "\tgov.administrators & 13.11 & 12351 & 11.16 & 68.8 & 1113 & prof\\\\\n",
       "\tgeneral.managers & 12.26 & 25879 &  4.02 & 69.1 & 1130 & prof\\\\\n",
       "\taccountants & 12.77 &  9271 & 15.70 & 63.4 & 1171 & prof\\\\\n",
       "\tpurchasing.officers & 11.42 &  8865 &  9.11 & 56.8 & 1175 & prof\\\\\n",
       "\tchemists & 14.62 &  8403 & 11.68 & 73.5 & 2111 & prof\\\\\n",
       "\tphysicists & 15.64 & 11030 &  5.13 & 77.6 & 2113 & prof\\\\\n",
       "\tbiologists & 15.09 &  8258 & 25.65 & 72.6 & 2133 & prof\\\\\n",
       "\tarchitects & 15.44 & 14163 &  2.69 & 78.1 & 2141 & prof\\\\\n",
       "\tcivil.engineers & 14.52 & 11377 &  1.03 & 73.1 & 2143 & prof\\\\\n",
       "\tmining.engineers & 14.64 & 11023 &  0.94 & 68.8 & 2153 & prof\\\\\n",
       "\tsurveyors & 12.39 &  5902 &  1.91 & 62.0 & 2161 & prof\\\\\n",
       "\tdraughtsmen & 12.30 &  7059 &  7.83 & 60.0 & 2163 & prof\\\\\n",
       "\tcomputer.programers & 13.83 &  8425 & 15.33 & 53.8 & 2183 & prof\\\\\n",
       "\teconomists & 14.44 &  8049 & 57.31 & 62.2 & 2311 & prof\\\\\n",
       "\tpsychologists & 14.36 &  7405 & 48.28 & 74.9 & 2315 & prof\\\\\n",
       "\tsocial.workers & 14.21 &  6336 & 54.77 & 55.1 & 2331 & prof\\\\\n",
       "\tlawyers & 15.77 & 19263 &  5.13 & 82.3 & 2343 & prof\\\\\n",
       "\tlibrarians & 14.15 &  6112 & 77.10 & 58.1 & 2351 & prof\\\\\n",
       "\tvocational.counsellors & 15.22 &  9593 & 34.89 & 58.3 & 2391 & prof\\\\\n",
       "\tministers & 14.50 &  4686 &  4.14 & 72.8 & 2511 & prof\\\\\n",
       "\tuniversity.teachers & 15.97 & 12480 & 19.59 & 84.6 & 2711 & prof\\\\\n",
       "\tprimary.school.teachers & 13.62 &  5648 & 83.78 & 59.6 & 2731 & prof\\\\\n",
       "\tsecondary.school.teachers & 15.08 &  8034 & 46.80 & 66.1 & 2733 & prof\\\\\n",
       "\tphysicians & 15.96 & 25308 & 10.56 & 87.2 & 3111 & prof\\\\\n",
       "\tveterinarians & 15.94 & 14558 &  4.32 & 66.7 & 3115 & prof\\\\\n",
       "\tosteopaths.chiropractors & 14.71 & 17498 &  6.91 & 68.4 & 3117 & prof\\\\\n",
       "\tnurses & 12.46 &  4614 & 96.12 & 64.7 & 3131 & prof\\\\\n",
       "\tnursing.aides &  9.45 &  3485 & 76.14 & 34.9 & 3135 & bc  \\\\\n",
       "\tphysio.therapsts & 13.62 &  5092 & 82.66 & 72.1 & 3137 & prof\\\\\n",
       "\tpharmacists & 15.21 & 10432 & 24.71 & 69.3 & 3151 & prof\\\\\n",
       "\t... & ... & ... & ... & ... & ... & ...\\\\\n",
       "\tcanners &  7.42 &  1890 & 72.24 & 23.2 & 8221 & bc  \\\\\n",
       "\ttextile.weavers &  6.69 &  4443 & 31.36 & 33.3 & 8267 & bc  \\\\\n",
       "\ttextile.labourers &  6.74 &  3485 & 39.48 & 28.8 & 8278 & bc  \\\\\n",
       "\ttool.die.makers & 10.09 &  8043 &  1.50 & 42.5 & 8311 & bc  \\\\\n",
       "\tmachinists &  8.81 &  6686 &  4.28 & 44.2 & 8313 & bc  \\\\\n",
       "\tsheet.metal.workers &  8.40 &  6565 &  2.30 & 35.9 & 8333 & bc  \\\\\n",
       "\twelders &  7.92 &  6477 &  5.17 & 41.8 & 8335 & bc  \\\\\n",
       "\tauto.workers &  8.43 &  5811 & 13.62 & 35.9 & 8513 & bc  \\\\\n",
       "\taircraft.workers &  8.78 &  6573 &  5.78 & 43.7 & 8515 & bc  \\\\\n",
       "\telectronic.workers &  8.76 &  3942 & 74.54 & 50.8 & 8534 & bc  \\\\\n",
       "\tradio.tv.repairmen & 10.29 &  5449 &  2.92 & 37.2 & 8537 & bc  \\\\\n",
       "\tsewing.mach.operators &  6.38 &  2847 & 90.67 & 28.2 & 8563 & bc  \\\\\n",
       "\tauto.repairmen &  8.10 &  5795 &  0.81 & 38.1 & 8581 & bc  \\\\\n",
       "\taircraft.repairmen & 10.10 &  7716 &  0.78 & 50.3 & 8582 & bc  \\\\\n",
       "\trailway.sectionmen &  6.67 &  4696 &  0.00 & 27.3 & 8715 & bc  \\\\\n",
       "\telectrical.linemen &  9.05 &  8316 &  1.34 & 40.9 & 8731 & bc  \\\\\n",
       "\telectricians &  9.93 &  7147 &  0.99 & 50.2 & 8733 & bc  \\\\\n",
       "\tconstruction.foremen &  8.24 &  8880 &  0.65 & 51.1 & 8780 & bc  \\\\\n",
       "\tcarpenters &  6.92 &  5299 &  0.56 & 38.9 & 8781 & bc  \\\\\n",
       "\tmasons &  6.60 &  5959 &  0.52 & 36.2 & 8782 & bc  \\\\\n",
       "\thouse.painters &  7.81 &  4549 &  2.46 & 29.9 & 8785 & bc  \\\\\n",
       "\tplumbers &  8.33 &  6928 &  0.61 & 42.9 & 8791 & bc  \\\\\n",
       "\tconstruction.labourers &  7.52 &  3910 &  1.09 & 26.5 & 8798 & bc  \\\\\n",
       "\tpilots & 12.27 & 14032 &  0.58 & 66.1 & 9111 & prof\\\\\n",
       "\ttrain.engineers &  8.49 &  8845 &  0.00 & 48.9 & 9131 & bc  \\\\\n",
       "\tbus.drivers &  7.58 &  5562 &  9.47 & 35.9 & 9171 & bc  \\\\\n",
       "\ttaxi.drivers &  7.93 &  4224 &  3.59 & 25.1 & 9173 & bc  \\\\\n",
       "\tlongshoremen &  8.37 &  4753 &  0.00 & 26.1 & 9313 & bc  \\\\\n",
       "\ttypesetters & 10.00 &  6462 & 13.58 & 42.2 & 9511 & bc  \\\\\n",
       "\tbookbinders &  8.55 &  3617 & 70.87 & 35.2 & 9517 & bc  \\\\\n",
       "\\end{tabular}\n"
      ],
      "text/markdown": [
       "\n",
       "A data.frame: 102 × 6\n",
       "\n",
       "| <!--/--> | education &lt;dbl&gt; | income &lt;int&gt; | women &lt;dbl&gt; | prestige &lt;dbl&gt; | census &lt;int&gt; | type &lt;fct&gt; |\n",
       "|---|---|---|---|---|---|---|\n",
       "| gov.administrators | 13.11 | 12351 | 11.16 | 68.8 | 1113 | prof |\n",
       "| general.managers | 12.26 | 25879 |  4.02 | 69.1 | 1130 | prof |\n",
       "| accountants | 12.77 |  9271 | 15.70 | 63.4 | 1171 | prof |\n",
       "| purchasing.officers | 11.42 |  8865 |  9.11 | 56.8 | 1175 | prof |\n",
       "| chemists | 14.62 |  8403 | 11.68 | 73.5 | 2111 | prof |\n",
       "| physicists | 15.64 | 11030 |  5.13 | 77.6 | 2113 | prof |\n",
       "| biologists | 15.09 |  8258 | 25.65 | 72.6 | 2133 | prof |\n",
       "| architects | 15.44 | 14163 |  2.69 | 78.1 | 2141 | prof |\n",
       "| civil.engineers | 14.52 | 11377 |  1.03 | 73.1 | 2143 | prof |\n",
       "| mining.engineers | 14.64 | 11023 |  0.94 | 68.8 | 2153 | prof |\n",
       "| surveyors | 12.39 |  5902 |  1.91 | 62.0 | 2161 | prof |\n",
       "| draughtsmen | 12.30 |  7059 |  7.83 | 60.0 | 2163 | prof |\n",
       "| computer.programers | 13.83 |  8425 | 15.33 | 53.8 | 2183 | prof |\n",
       "| economists | 14.44 |  8049 | 57.31 | 62.2 | 2311 | prof |\n",
       "| psychologists | 14.36 |  7405 | 48.28 | 74.9 | 2315 | prof |\n",
       "| social.workers | 14.21 |  6336 | 54.77 | 55.1 | 2331 | prof |\n",
       "| lawyers | 15.77 | 19263 |  5.13 | 82.3 | 2343 | prof |\n",
       "| librarians | 14.15 |  6112 | 77.10 | 58.1 | 2351 | prof |\n",
       "| vocational.counsellors | 15.22 |  9593 | 34.89 | 58.3 | 2391 | prof |\n",
       "| ministers | 14.50 |  4686 |  4.14 | 72.8 | 2511 | prof |\n",
       "| university.teachers | 15.97 | 12480 | 19.59 | 84.6 | 2711 | prof |\n",
       "| primary.school.teachers | 13.62 |  5648 | 83.78 | 59.6 | 2731 | prof |\n",
       "| secondary.school.teachers | 15.08 |  8034 | 46.80 | 66.1 | 2733 | prof |\n",
       "| physicians | 15.96 | 25308 | 10.56 | 87.2 | 3111 | prof |\n",
       "| veterinarians | 15.94 | 14558 |  4.32 | 66.7 | 3115 | prof |\n",
       "| osteopaths.chiropractors | 14.71 | 17498 |  6.91 | 68.4 | 3117 | prof |\n",
       "| nurses | 12.46 |  4614 | 96.12 | 64.7 | 3131 | prof |\n",
       "| nursing.aides |  9.45 |  3485 | 76.14 | 34.9 | 3135 | bc   |\n",
       "| physio.therapsts | 13.62 |  5092 | 82.66 | 72.1 | 3137 | prof |\n",
       "| pharmacists | 15.21 | 10432 | 24.71 | 69.3 | 3151 | prof |\n",
       "| ... | ... | ... | ... | ... | ... | ... |\n",
       "| canners |  7.42 |  1890 | 72.24 | 23.2 | 8221 | bc   |\n",
       "| textile.weavers |  6.69 |  4443 | 31.36 | 33.3 | 8267 | bc   |\n",
       "| textile.labourers |  6.74 |  3485 | 39.48 | 28.8 | 8278 | bc   |\n",
       "| tool.die.makers | 10.09 |  8043 |  1.50 | 42.5 | 8311 | bc   |\n",
       "| machinists |  8.81 |  6686 |  4.28 | 44.2 | 8313 | bc   |\n",
       "| sheet.metal.workers |  8.40 |  6565 |  2.30 | 35.9 | 8333 | bc   |\n",
       "| welders |  7.92 |  6477 |  5.17 | 41.8 | 8335 | bc   |\n",
       "| auto.workers |  8.43 |  5811 | 13.62 | 35.9 | 8513 | bc   |\n",
       "| aircraft.workers |  8.78 |  6573 |  5.78 | 43.7 | 8515 | bc   |\n",
       "| electronic.workers |  8.76 |  3942 | 74.54 | 50.8 | 8534 | bc   |\n",
       "| radio.tv.repairmen | 10.29 |  5449 |  2.92 | 37.2 | 8537 | bc   |\n",
       "| sewing.mach.operators |  6.38 |  2847 | 90.67 | 28.2 | 8563 | bc   |\n",
       "| auto.repairmen |  8.10 |  5795 |  0.81 | 38.1 | 8581 | bc   |\n",
       "| aircraft.repairmen | 10.10 |  7716 |  0.78 | 50.3 | 8582 | bc   |\n",
       "| railway.sectionmen |  6.67 |  4696 |  0.00 | 27.3 | 8715 | bc   |\n",
       "| electrical.linemen |  9.05 |  8316 |  1.34 | 40.9 | 8731 | bc   |\n",
       "| electricians |  9.93 |  7147 |  0.99 | 50.2 | 8733 | bc   |\n",
       "| construction.foremen |  8.24 |  8880 |  0.65 | 51.1 | 8780 | bc   |\n",
       "| carpenters |  6.92 |  5299 |  0.56 | 38.9 | 8781 | bc   |\n",
       "| masons |  6.60 |  5959 |  0.52 | 36.2 | 8782 | bc   |\n",
       "| house.painters |  7.81 |  4549 |  2.46 | 29.9 | 8785 | bc   |\n",
       "| plumbers |  8.33 |  6928 |  0.61 | 42.9 | 8791 | bc   |\n",
       "| construction.labourers |  7.52 |  3910 |  1.09 | 26.5 | 8798 | bc   |\n",
       "| pilots | 12.27 | 14032 |  0.58 | 66.1 | 9111 | prof |\n",
       "| train.engineers |  8.49 |  8845 |  0.00 | 48.9 | 9131 | bc   |\n",
       "| bus.drivers |  7.58 |  5562 |  9.47 | 35.9 | 9171 | bc   |\n",
       "| taxi.drivers |  7.93 |  4224 |  3.59 | 25.1 | 9173 | bc   |\n",
       "| longshoremen |  8.37 |  4753 |  0.00 | 26.1 | 9313 | bc   |\n",
       "| typesetters | 10.00 |  6462 | 13.58 | 42.2 | 9511 | bc   |\n",
       "| bookbinders |  8.55 |  3617 | 70.87 | 35.2 | 9517 | bc   |\n",
       "\n"
      ],
      "text/plain": [
       "                          education income women prestige census type\n",
       "gov.administrators        13.11     12351  11.16 68.8     1113   prof\n",
       "general.managers          12.26     25879   4.02 69.1     1130   prof\n",
       "accountants               12.77      9271  15.70 63.4     1171   prof\n",
       "purchasing.officers       11.42      8865   9.11 56.8     1175   prof\n",
       "chemists                  14.62      8403  11.68 73.5     2111   prof\n",
       "physicists                15.64     11030   5.13 77.6     2113   prof\n",
       "biologists                15.09      8258  25.65 72.6     2133   prof\n",
       "architects                15.44     14163   2.69 78.1     2141   prof\n",
       "civil.engineers           14.52     11377   1.03 73.1     2143   prof\n",
       "mining.engineers          14.64     11023   0.94 68.8     2153   prof\n",
       "surveyors                 12.39      5902   1.91 62.0     2161   prof\n",
       "draughtsmen               12.30      7059   7.83 60.0     2163   prof\n",
       "computer.programers       13.83      8425  15.33 53.8     2183   prof\n",
       "economists                14.44      8049  57.31 62.2     2311   prof\n",
       "psychologists             14.36      7405  48.28 74.9     2315   prof\n",
       "social.workers            14.21      6336  54.77 55.1     2331   prof\n",
       "lawyers                   15.77     19263   5.13 82.3     2343   prof\n",
       "librarians                14.15      6112  77.10 58.1     2351   prof\n",
       "vocational.counsellors    15.22      9593  34.89 58.3     2391   prof\n",
       "ministers                 14.50      4686   4.14 72.8     2511   prof\n",
       "university.teachers       15.97     12480  19.59 84.6     2711   prof\n",
       "primary.school.teachers   13.62      5648  83.78 59.6     2731   prof\n",
       "secondary.school.teachers 15.08      8034  46.80 66.1     2733   prof\n",
       "physicians                15.96     25308  10.56 87.2     3111   prof\n",
       "veterinarians             15.94     14558   4.32 66.7     3115   prof\n",
       "osteopaths.chiropractors  14.71     17498   6.91 68.4     3117   prof\n",
       "nurses                    12.46      4614  96.12 64.7     3131   prof\n",
       "nursing.aides              9.45      3485  76.14 34.9     3135   bc  \n",
       "physio.therapsts          13.62      5092  82.66 72.1     3137   prof\n",
       "pharmacists               15.21     10432  24.71 69.3     3151   prof\n",
       "...                       ...       ...    ...   ...      ...    ... \n",
       "canners                    7.42      1890  72.24 23.2     8221   bc  \n",
       "textile.weavers            6.69      4443  31.36 33.3     8267   bc  \n",
       "textile.labourers          6.74      3485  39.48 28.8     8278   bc  \n",
       "tool.die.makers           10.09      8043   1.50 42.5     8311   bc  \n",
       "machinists                 8.81      6686   4.28 44.2     8313   bc  \n",
       "sheet.metal.workers        8.40      6565   2.30 35.9     8333   bc  \n",
       "welders                    7.92      6477   5.17 41.8     8335   bc  \n",
       "auto.workers               8.43      5811  13.62 35.9     8513   bc  \n",
       "aircraft.workers           8.78      6573   5.78 43.7     8515   bc  \n",
       "electronic.workers         8.76      3942  74.54 50.8     8534   bc  \n",
       "radio.tv.repairmen        10.29      5449   2.92 37.2     8537   bc  \n",
       "sewing.mach.operators      6.38      2847  90.67 28.2     8563   bc  \n",
       "auto.repairmen             8.10      5795   0.81 38.1     8581   bc  \n",
       "aircraft.repairmen        10.10      7716   0.78 50.3     8582   bc  \n",
       "railway.sectionmen         6.67      4696   0.00 27.3     8715   bc  \n",
       "electrical.linemen         9.05      8316   1.34 40.9     8731   bc  \n",
       "electricians               9.93      7147   0.99 50.2     8733   bc  \n",
       "construction.foremen       8.24      8880   0.65 51.1     8780   bc  \n",
       "carpenters                 6.92      5299   0.56 38.9     8781   bc  \n",
       "masons                     6.60      5959   0.52 36.2     8782   bc  \n",
       "house.painters             7.81      4549   2.46 29.9     8785   bc  \n",
       "plumbers                   8.33      6928   0.61 42.9     8791   bc  \n",
       "construction.labourers     7.52      3910   1.09 26.5     8798   bc  \n",
       "pilots                    12.27     14032   0.58 66.1     9111   prof\n",
       "train.engineers            8.49      8845   0.00 48.9     9131   bc  \n",
       "bus.drivers                7.58      5562   9.47 35.9     9171   bc  \n",
       "taxi.drivers               7.93      4224   3.59 25.1     9173   bc  \n",
       "longshoremen               8.37      4753   0.00 26.1     9313   bc  \n",
       "typesetters               10.00      6462  13.58 42.2     9511   bc  \n",
       "bookbinders                8.55      3617  70.87 35.2     9517   bc  "
      ]
     },
     "metadata": {},
     "output_type": "display_data"
    }
   ],
   "source": [
    "# Standard example for Box-Tidwell (on Prestige dataset)\n",
    "# Prestige"
   ]
  },
  {
   "cell_type": "code",
   "execution_count": 46,
   "metadata": {},
   "outputs": [
    {
     "data": {
      "text/plain": [
       "          MLE of lambda Score Statistic (z)  Pr(>|z|)    \n",
       "income         -0.34763             -4.4824 7.381e-06 ***\n",
       "education       1.25383              0.2170    0.8282    \n",
       "---\n",
       "Signif. codes:  0 '***' 0.001 '**' 0.01 '*' 0.05 '.' 0.1 ' ' 1\n",
       "\n",
       "iterations =  8 "
      ]
     },
     "metadata": {},
     "output_type": "display_data"
    }
   ],
   "source": [
    "# boxTidwell(prestige ~ income + education, ~ type + poly(women, 2), data=Prestige)"
   ]
  }
 ],
 "metadata": {
  "kernelspec": {
   "display_name": "R",
   "language": "R",
   "name": "ir"
  },
  "language_info": {
   "codemirror_mode": "r",
   "file_extension": ".r",
   "mimetype": "text/x-r-source",
   "name": "R",
   "pygments_lexer": "r",
   "version": "4.1.1"
  }
 },
 "nbformat": 4,
 "nbformat_minor": 4
}
